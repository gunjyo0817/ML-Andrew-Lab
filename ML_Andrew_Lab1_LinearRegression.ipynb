{
  "nbformat": 4,
  "nbformat_minor": 0,
  "metadata": {
    "colab": {
      "provenance": [],
      "gpuType": "T4",
      "authorship_tag": "ABX9TyOZwdsMsrpzG/7dC+lJ4bCT",
      "include_colab_link": true
    },
    "kernelspec": {
      "name": "python3",
      "display_name": "Python 3"
    },
    "language_info": {
      "name": "python"
    },
    "accelerator": "GPU"
  },
  "cells": [
    {
      "cell_type": "markdown",
      "metadata": {
        "id": "view-in-github",
        "colab_type": "text"
      },
      "source": [
        "<a href=\"https://colab.research.google.com/github/gunjyo0817/ML-Andrew-Lab/blob/main/ML_Andrew_Lab1_LinearRegression.ipynb\" target=\"_parent\"><img src=\"https://colab.research.google.com/assets/colab-badge.svg\" alt=\"Open In Colab\"/></a>"
      ]
    },
    {
      "cell_type": "code",
      "execution_count": null,
      "metadata": {
        "id": "KDqN0kBOWs3C"
      },
      "outputs": [],
      "source": [
        "import numpy as np\n",
        "import pandas as pd\n",
        "import matplotlib.pyplot as plt"
      ]
    },
    {
      "cell_type": "markdown",
      "source": [
        "# Linear Regression with One Variable\n",
        "First some context on the problem statement.\n",
        "\n",
        "Here we will implement linear regression with one variable to predict profits for a food truck. Suppose you are the CEO of a restaurant franchise and are considering different cities for opening a new outlet. The chain already has trucks in various cities and you have data for profits and populations from the cities."
      ],
      "metadata": {
        "id": "5gSextw6XIT_"
      }
    },
    {
      "cell_type": "code",
      "source": [
        "# read data\n",
        "data = pd.read_csv('./ex1data1.txt', header = None) #read from dataset\n",
        "X = data.iloc[:,0] # read first column\n",
        "y = data.iloc[:,1] # read second column\n",
        "m = len(y) # number of training example\n",
        "data.head() # view first few rows of the data"
      ],
      "metadata": {
        "colab": {
          "base_uri": "https://localhost:8080/",
          "height": 206
        },
        "id": "pkiQVkDFW21A",
        "outputId": "bed7dc5b-1914-4e8a-b3a8-b0e4d660b1d7"
      },
      "execution_count": null,
      "outputs": [
        {
          "output_type": "execute_result",
          "data": {
            "text/plain": [
              "        0        1\n",
              "0  6.1101  17.5920\n",
              "1  5.5277   9.1302\n",
              "2  8.5186  13.6620\n",
              "3  7.0032  11.8540\n",
              "4  5.8598   6.8233"
            ],
            "text/html": [
              "\n",
              "  <div id=\"df-ea9d7846-428d-452a-a598-568b150e4ec1\" class=\"colab-df-container\">\n",
              "    <div>\n",
              "<style scoped>\n",
              "    .dataframe tbody tr th:only-of-type {\n",
              "        vertical-align: middle;\n",
              "    }\n",
              "\n",
              "    .dataframe tbody tr th {\n",
              "        vertical-align: top;\n",
              "    }\n",
              "\n",
              "    .dataframe thead th {\n",
              "        text-align: right;\n",
              "    }\n",
              "</style>\n",
              "<table border=\"1\" class=\"dataframe\">\n",
              "  <thead>\n",
              "    <tr style=\"text-align: right;\">\n",
              "      <th></th>\n",
              "      <th>0</th>\n",
              "      <th>1</th>\n",
              "    </tr>\n",
              "  </thead>\n",
              "  <tbody>\n",
              "    <tr>\n",
              "      <th>0</th>\n",
              "      <td>6.1101</td>\n",
              "      <td>17.5920</td>\n",
              "    </tr>\n",
              "    <tr>\n",
              "      <th>1</th>\n",
              "      <td>5.5277</td>\n",
              "      <td>9.1302</td>\n",
              "    </tr>\n",
              "    <tr>\n",
              "      <th>2</th>\n",
              "      <td>8.5186</td>\n",
              "      <td>13.6620</td>\n",
              "    </tr>\n",
              "    <tr>\n",
              "      <th>3</th>\n",
              "      <td>7.0032</td>\n",
              "      <td>11.8540</td>\n",
              "    </tr>\n",
              "    <tr>\n",
              "      <th>4</th>\n",
              "      <td>5.8598</td>\n",
              "      <td>6.8233</td>\n",
              "    </tr>\n",
              "  </tbody>\n",
              "</table>\n",
              "</div>\n",
              "    <div class=\"colab-df-buttons\">\n",
              "\n",
              "  <div class=\"colab-df-container\">\n",
              "    <button class=\"colab-df-convert\" onclick=\"convertToInteractive('df-ea9d7846-428d-452a-a598-568b150e4ec1')\"\n",
              "            title=\"Convert this dataframe to an interactive table.\"\n",
              "            style=\"display:none;\">\n",
              "\n",
              "  <svg xmlns=\"http://www.w3.org/2000/svg\" height=\"24px\" viewBox=\"0 -960 960 960\">\n",
              "    <path d=\"M120-120v-720h720v720H120Zm60-500h600v-160H180v160Zm220 220h160v-160H400v160Zm0 220h160v-160H400v160ZM180-400h160v-160H180v160Zm440 0h160v-160H620v160ZM180-180h160v-160H180v160Zm440 0h160v-160H620v160Z\"/>\n",
              "  </svg>\n",
              "    </button>\n",
              "\n",
              "  <style>\n",
              "    .colab-df-container {\n",
              "      display:flex;\n",
              "      gap: 12px;\n",
              "    }\n",
              "\n",
              "    .colab-df-convert {\n",
              "      background-color: #E8F0FE;\n",
              "      border: none;\n",
              "      border-radius: 50%;\n",
              "      cursor: pointer;\n",
              "      display: none;\n",
              "      fill: #1967D2;\n",
              "      height: 32px;\n",
              "      padding: 0 0 0 0;\n",
              "      width: 32px;\n",
              "    }\n",
              "\n",
              "    .colab-df-convert:hover {\n",
              "      background-color: #E2EBFA;\n",
              "      box-shadow: 0px 1px 2px rgba(60, 64, 67, 0.3), 0px 1px 3px 1px rgba(60, 64, 67, 0.15);\n",
              "      fill: #174EA6;\n",
              "    }\n",
              "\n",
              "    .colab-df-buttons div {\n",
              "      margin-bottom: 4px;\n",
              "    }\n",
              "\n",
              "    [theme=dark] .colab-df-convert {\n",
              "      background-color: #3B4455;\n",
              "      fill: #D2E3FC;\n",
              "    }\n",
              "\n",
              "    [theme=dark] .colab-df-convert:hover {\n",
              "      background-color: #434B5C;\n",
              "      box-shadow: 0px 1px 3px 1px rgba(0, 0, 0, 0.15);\n",
              "      filter: drop-shadow(0px 1px 2px rgba(0, 0, 0, 0.3));\n",
              "      fill: #FFFFFF;\n",
              "    }\n",
              "  </style>\n",
              "\n",
              "    <script>\n",
              "      const buttonEl =\n",
              "        document.querySelector('#df-ea9d7846-428d-452a-a598-568b150e4ec1 button.colab-df-convert');\n",
              "      buttonEl.style.display =\n",
              "        google.colab.kernel.accessAllowed ? 'block' : 'none';\n",
              "\n",
              "      async function convertToInteractive(key) {\n",
              "        const element = document.querySelector('#df-ea9d7846-428d-452a-a598-568b150e4ec1');\n",
              "        const dataTable =\n",
              "          await google.colab.kernel.invokeFunction('convertToInteractive',\n",
              "                                                    [key], {});\n",
              "        if (!dataTable) return;\n",
              "\n",
              "        const docLinkHtml = 'Like what you see? Visit the ' +\n",
              "          '<a target=\"_blank\" href=https://colab.research.google.com/notebooks/data_table.ipynb>data table notebook</a>'\n",
              "          + ' to learn more about interactive tables.';\n",
              "        element.innerHTML = '';\n",
              "        dataTable['output_type'] = 'display_data';\n",
              "        await google.colab.output.renderOutput(dataTable, element);\n",
              "        const docLink = document.createElement('div');\n",
              "        docLink.innerHTML = docLinkHtml;\n",
              "        element.appendChild(docLink);\n",
              "      }\n",
              "    </script>\n",
              "  </div>\n",
              "\n",
              "\n",
              "<div id=\"df-2fbe1322-ab2c-4f12-a5a0-60c1d4ee42a2\">\n",
              "  <button class=\"colab-df-quickchart\" onclick=\"quickchart('df-2fbe1322-ab2c-4f12-a5a0-60c1d4ee42a2')\"\n",
              "            title=\"Suggest charts\"\n",
              "            style=\"display:none;\">\n",
              "\n",
              "<svg xmlns=\"http://www.w3.org/2000/svg\" height=\"24px\"viewBox=\"0 0 24 24\"\n",
              "     width=\"24px\">\n",
              "    <g>\n",
              "        <path d=\"M19 3H5c-1.1 0-2 .9-2 2v14c0 1.1.9 2 2 2h14c1.1 0 2-.9 2-2V5c0-1.1-.9-2-2-2zM9 17H7v-7h2v7zm4 0h-2V7h2v10zm4 0h-2v-4h2v4z\"/>\n",
              "    </g>\n",
              "</svg>\n",
              "  </button>\n",
              "\n",
              "<style>\n",
              "  .colab-df-quickchart {\n",
              "      --bg-color: #E8F0FE;\n",
              "      --fill-color: #1967D2;\n",
              "      --hover-bg-color: #E2EBFA;\n",
              "      --hover-fill-color: #174EA6;\n",
              "      --disabled-fill-color: #AAA;\n",
              "      --disabled-bg-color: #DDD;\n",
              "  }\n",
              "\n",
              "  [theme=dark] .colab-df-quickchart {\n",
              "      --bg-color: #3B4455;\n",
              "      --fill-color: #D2E3FC;\n",
              "      --hover-bg-color: #434B5C;\n",
              "      --hover-fill-color: #FFFFFF;\n",
              "      --disabled-bg-color: #3B4455;\n",
              "      --disabled-fill-color: #666;\n",
              "  }\n",
              "\n",
              "  .colab-df-quickchart {\n",
              "    background-color: var(--bg-color);\n",
              "    border: none;\n",
              "    border-radius: 50%;\n",
              "    cursor: pointer;\n",
              "    display: none;\n",
              "    fill: var(--fill-color);\n",
              "    height: 32px;\n",
              "    padding: 0;\n",
              "    width: 32px;\n",
              "  }\n",
              "\n",
              "  .colab-df-quickchart:hover {\n",
              "    background-color: var(--hover-bg-color);\n",
              "    box-shadow: 0 1px 2px rgba(60, 64, 67, 0.3), 0 1px 3px 1px rgba(60, 64, 67, 0.15);\n",
              "    fill: var(--button-hover-fill-color);\n",
              "  }\n",
              "\n",
              "  .colab-df-quickchart-complete:disabled,\n",
              "  .colab-df-quickchart-complete:disabled:hover {\n",
              "    background-color: var(--disabled-bg-color);\n",
              "    fill: var(--disabled-fill-color);\n",
              "    box-shadow: none;\n",
              "  }\n",
              "\n",
              "  .colab-df-spinner {\n",
              "    border: 2px solid var(--fill-color);\n",
              "    border-color: transparent;\n",
              "    border-bottom-color: var(--fill-color);\n",
              "    animation:\n",
              "      spin 1s steps(1) infinite;\n",
              "  }\n",
              "\n",
              "  @keyframes spin {\n",
              "    0% {\n",
              "      border-color: transparent;\n",
              "      border-bottom-color: var(--fill-color);\n",
              "      border-left-color: var(--fill-color);\n",
              "    }\n",
              "    20% {\n",
              "      border-color: transparent;\n",
              "      border-left-color: var(--fill-color);\n",
              "      border-top-color: var(--fill-color);\n",
              "    }\n",
              "    30% {\n",
              "      border-color: transparent;\n",
              "      border-left-color: var(--fill-color);\n",
              "      border-top-color: var(--fill-color);\n",
              "      border-right-color: var(--fill-color);\n",
              "    }\n",
              "    40% {\n",
              "      border-color: transparent;\n",
              "      border-right-color: var(--fill-color);\n",
              "      border-top-color: var(--fill-color);\n",
              "    }\n",
              "    60% {\n",
              "      border-color: transparent;\n",
              "      border-right-color: var(--fill-color);\n",
              "    }\n",
              "    80% {\n",
              "      border-color: transparent;\n",
              "      border-right-color: var(--fill-color);\n",
              "      border-bottom-color: var(--fill-color);\n",
              "    }\n",
              "    90% {\n",
              "      border-color: transparent;\n",
              "      border-bottom-color: var(--fill-color);\n",
              "    }\n",
              "  }\n",
              "</style>\n",
              "\n",
              "  <script>\n",
              "    async function quickchart(key) {\n",
              "      const quickchartButtonEl =\n",
              "        document.querySelector('#' + key + ' button');\n",
              "      quickchartButtonEl.disabled = true;  // To prevent multiple clicks.\n",
              "      quickchartButtonEl.classList.add('colab-df-spinner');\n",
              "      try {\n",
              "        const charts = await google.colab.kernel.invokeFunction(\n",
              "            'suggestCharts', [key], {});\n",
              "      } catch (error) {\n",
              "        console.error('Error during call to suggestCharts:', error);\n",
              "      }\n",
              "      quickchartButtonEl.classList.remove('colab-df-spinner');\n",
              "      quickchartButtonEl.classList.add('colab-df-quickchart-complete');\n",
              "    }\n",
              "    (() => {\n",
              "      let quickchartButtonEl =\n",
              "        document.querySelector('#df-2fbe1322-ab2c-4f12-a5a0-60c1d4ee42a2 button');\n",
              "      quickchartButtonEl.style.display =\n",
              "        google.colab.kernel.accessAllowed ? 'block' : 'none';\n",
              "    })();\n",
              "  </script>\n",
              "</div>\n",
              "\n",
              "    </div>\n",
              "  </div>\n"
            ],
            "application/vnd.google.colaboratory.intrinsic+json": {
              "type": "dataframe",
              "variable_name": "data",
              "summary": "{\n  \"name\": \"data\",\n  \"rows\": 97,\n  \"fields\": [\n    {\n      \"column\": 0,\n      \"properties\": {\n        \"dtype\": \"number\",\n        \"std\": 3.8698835278823314,\n        \"min\": 5.0269,\n        \"max\": 22.203,\n        \"num_unique_values\": 97,\n        \"samples\": [\n          21.279,\n          5.4069,\n          5.3054\n        ],\n        \"semantic_type\": \"\",\n        \"description\": \"\"\n      }\n    },\n    {\n      \"column\": 1,\n      \"properties\": {\n        \"dtype\": \"number\",\n        \"std\": 5.510262255231544,\n        \"min\": -2.6807,\n        \"max\": 24.147,\n        \"num_unique_values\": 97,\n        \"samples\": [\n          17.929,\n          0.55657,\n          1.9869\n        ],\n        \"semantic_type\": \"\",\n        \"description\": \"\"\n      }\n    }\n  ]\n}"
            }
          },
          "metadata": {},
          "execution_count": 14
        }
      ]
    },
    {
      "cell_type": "code",
      "source": [
        "# visualization\n",
        "plt.scatter(X, y)\n",
        "plt.xlabel('Population of City in 10,000s')\n",
        "plt.ylabel('Profit in $10,000s')\n",
        "plt.show()"
      ],
      "metadata": {
        "colab": {
          "base_uri": "https://localhost:8080/",
          "height": 449
        },
        "id": "ttwEbldeXAEG",
        "outputId": "2497c48f-8afa-4896-d842-d0d11951d367"
      },
      "execution_count": null,
      "outputs": [
        {
          "output_type": "display_data",
          "data": {
            "text/plain": [
              "<Figure size 640x480 with 1 Axes>"
            ],
            "image/png": "[encoded data removed]"
          },
          "metadata": {}
        }
      ]
    },
    {
      "cell_type": "code",
      "source": [
        "# adding the intercept term\n",
        "X = X[:,np.newaxis]\n",
        "y = y[:,np.newaxis]\n",
        "theta = np.zeros([2,1])\n",
        "iterations = 1500\n",
        "alpha = 0.01\n",
        "ones = np.ones((m,1))\n",
        "X = np.hstack((ones, X)) # adding the intercept term"
      ],
      "metadata": {
        "colab": {
          "base_uri": "https://localhost:8080/"
        },
        "id": "E6Nn09IHXYeS",
        "outputId": "2ce11e03-166c-4503-93ce-74720efdbf4a"
      },
      "execution_count": null,
      "outputs": [
        {
          "output_type": "stream",
          "name": "stderr",
          "text": [
            "<ipython-input-16-67c159ded5b6>:1: FutureWarning: Support for multi-dimensional indexing (e.g. `obj[:, None]`) is deprecated and will be removed in a future version.  Convert to a numpy array before indexing instead.\n",
            "  X = X[:,np.newaxis]\n",
            "<ipython-input-16-67c159ded5b6>:2: FutureWarning: Support for multi-dimensional indexing (e.g. `obj[:, None]`) is deprecated and will be removed in a future version.  Convert to a numpy array before indexing instead.\n",
            "  y = y[:,np.newaxis]\n"
          ]
        }
      ]
    },
    {
      "cell_type": "code",
      "source": [
        "# computing the cost\n",
        "def computeCost(X, y, theta):\n",
        "    temp = np.dot(X, theta) - y\n",
        "    return np.sum(np.power(temp, 2)) / (2*m)\n",
        "J = computeCost(X, y, theta)\n",
        "print(J)"
      ],
      "metadata": {
        "colab": {
          "base_uri": "https://localhost:8080/"
        },
        "id": "0ndOCT8xX9if",
        "outputId": "7da3e787-d192-4e2d-fd6d-39d3d3411817"
      },
      "execution_count": null,
      "outputs": [
        {
          "output_type": "stream",
          "name": "stdout",
          "text": [
            "32.072733877455676\n"
          ]
        }
      ]
    },
    {
      "cell_type": "code",
      "source": [
        "# find the optimal parameters using Gradient Descent\n",
        "def gradientDescent(X, y, theta, alpha, iterations):\n",
        "    for _ in range(iterations):\n",
        "        temp = np.dot(X, theta) - y\n",
        "        temp = np.dot(X.T, temp)\n",
        "        theta = theta - (alpha/m) * temp\n",
        "    return theta\n",
        "theta = gradientDescent(X, y, theta, alpha, iterations)\n",
        "print(theta)\n",
        "J = computeCost(X, y, theta)\n",
        "print(J)"
      ],
      "metadata": {
        "colab": {
          "base_uri": "https://localhost:8080/"
        },
        "id": "VlLhibrnYE2j",
        "outputId": "fc7c99d3-b515-4ece-b16d-5265739e997e"
      },
      "execution_count": null,
      "outputs": [
        {
          "output_type": "stream",
          "name": "stdout",
          "text": [
            "[[-3.63029144]\n",
            " [ 1.16636235]]\n",
            "4.483388256587726\n"
          ]
        }
      ]
    },
    {
      "cell_type": "code",
      "source": [
        "# plot showing the best fit line\n",
        "plt.scatter(X[:,1], y)\n",
        "plt.xlabel('Population of City in 10,000s')\n",
        "plt.ylabel('Profit in $10,000s')\n",
        "plt.plot(X[:,1], np.dot(X, theta))\n",
        "plt.show()"
      ],
      "metadata": {
        "colab": {
          "base_uri": "https://localhost:8080/",
          "height": 449
        },
        "id": "0YTRBK6HYNbW",
        "outputId": "ec515ec8-5a40-46a3-90bf-e1e0f24bc507"
      },
      "execution_count": null,
      "outputs": [
        {
          "output_type": "display_data",
          "data": {
            "text/plain": [
              "<Figure size 640x480 with 1 Axes>"
            ],
            "image/png": "[encoded data removed]"
          },
          "metadata": {}
        }
      ]
    },
    {
      "cell_type": "markdown",
      "source": [
        "# Linear Regression with multiple variables\n",
        "\n",
        "Suppose you are selling your house and you want to know what a good market price would be. One way to do this is to first collect information on recent houses sold and make a model of housing prices. Your job is to predict housing prices based on other variables."
      ],
      "metadata": {
        "id": "x5e3ij-waQRY"
      }
    },
    {
      "cell_type": "code",
      "source": [
        "# read data\n",
        "data = pd.read_csv('./ex1data2.txt', sep = ',', header = None)\n",
        "X = data.iloc[:, 0:2] # read first two columns into X\n",
        "y = data.iloc[:, 2] # read the third column into y\n",
        "m = len(y) # no. of training samples\n",
        "data.head()"
      ],
      "metadata": {
        "colab": {
          "base_uri": "https://localhost:8080/",
          "height": 206
        },
        "id": "TUbiI0Zzatd8",
        "outputId": "1e19813c-6b53-43fb-e865-f776c404f8d9"
      },
      "execution_count": null,
      "outputs": [
        {
          "output_type": "execute_result",
          "data": {
            "text/plain": [
              "      0  1       2\n",
              "0  2104  3  399900\n",
              "1  1600  3  329900\n",
              "2  2400  3  369000\n",
              "3  1416  2  232000\n",
              "4  3000  4  539900"
            ],
            "text/html": [
              "\n",
              "  <div id=\"df-50e38c8f-298b-43b1-8b2b-9505ff122a08\" class=\"colab-df-container\">\n",
              "    <div>\n",
              "<style scoped>\n",
              "    .dataframe tbody tr th:only-of-type {\n",
              "        vertical-align: middle;\n",
              "    }\n",
              "\n",
              "    .dataframe tbody tr th {\n",
              "        vertical-align: top;\n",
              "    }\n",
              "\n",
              "    .dataframe thead th {\n",
              "        text-align: right;\n",
              "    }\n",
              "</style>\n",
              "<table border=\"1\" class=\"dataframe\">\n",
              "  <thead>\n",
              "    <tr style=\"text-align: right;\">\n",
              "      <th></th>\n",
              "      <th>0</th>\n",
              "      <th>1</th>\n",
              "      <th>2</th>\n",
              "    </tr>\n",
              "  </thead>\n",
              "  <tbody>\n",
              "    <tr>\n",
              "      <th>0</th>\n",
              "      <td>2104</td>\n",
              "      <td>3</td>\n",
              "      <td>399900</td>\n",
              "    </tr>\n",
              "    <tr>\n",
              "      <th>1</th>\n",
              "      <td>1600</td>\n",
              "      <td>3</td>\n",
              "      <td>329900</td>\n",
              "    </tr>\n",
              "    <tr>\n",
              "      <th>2</th>\n",
              "      <td>2400</td>\n",
              "      <td>3</td>\n",
              "      <td>369000</td>\n",
              "    </tr>\n",
              "    <tr>\n",
              "      <th>3</th>\n",
              "      <td>1416</td>\n",
              "      <td>2</td>\n",
              "      <td>232000</td>\n",
              "    </tr>\n",
              "    <tr>\n",
              "      <th>4</th>\n",
              "      <td>3000</td>\n",
              "      <td>4</td>\n",
              "      <td>539900</td>\n",
              "    </tr>\n",
              "  </tbody>\n",
              "</table>\n",
              "</div>\n",
              "    <div class=\"colab-df-buttons\">\n",
              "\n",
              "  <div class=\"colab-df-container\">\n",
              "    <button class=\"colab-df-convert\" onclick=\"convertToInteractive('df-50e38c8f-298b-43b1-8b2b-9505ff122a08')\"\n",
              "            title=\"Convert this dataframe to an interactive table.\"\n",
              "            style=\"display:none;\">\n",
              "\n",
              "  <svg xmlns=\"http://www.w3.org/2000/svg\" height=\"24px\" viewBox=\"0 -960 960 960\">\n",
              "    <path d=\"M120-120v-720h720v720H120Zm60-500h600v-160H180v160Zm220 220h160v-160H400v160Zm0 220h160v-160H400v160ZM180-400h160v-160H180v160Zm440 0h160v-160H620v160ZM180-180h160v-160H180v160Zm440 0h160v-160H620v160Z\"/>\n",
              "  </svg>\n",
              "    </button>\n",
              "\n",
              "  <style>\n",
              "    .colab-df-container {\n",
              "      display:flex;\n",
              "      gap: 12px;\n",
              "    }\n",
              "\n",
              "    .colab-df-convert {\n",
              "      background-color: #E8F0FE;\n",
              "      border: none;\n",
              "      border-radius: 50%;\n",
              "      cursor: pointer;\n",
              "      display: none;\n",
              "      fill: #1967D2;\n",
              "      height: 32px;\n",
              "      padding: 0 0 0 0;\n",
              "      width: 32px;\n",
              "    }\n",
              "\n",
              "    .colab-df-convert:hover {\n",
              "      background-color: #E2EBFA;\n",
              "      box-shadow: 0px 1px 2px rgba(60, 64, 67, 0.3), 0px 1px 3px 1px rgba(60, 64, 67, 0.15);\n",
              "      fill: #174EA6;\n",
              "    }\n",
              "\n",
              "    .colab-df-buttons div {\n",
              "      margin-bottom: 4px;\n",
              "    }\n",
              "\n",
              "    [theme=dark] .colab-df-convert {\n",
              "      background-color: #3B4455;\n",
              "      fill: #D2E3FC;\n",
              "    }\n",
              "\n",
              "    [theme=dark] .colab-df-convert:hover {\n",
              "      background-color: #434B5C;\n",
              "      box-shadow: 0px 1px 3px 1px rgba(0, 0, 0, 0.15);\n",
              "      filter: drop-shadow(0px 1px 2px rgba(0, 0, 0, 0.3));\n",
              "      fill: #FFFFFF;\n",
              "    }\n",
              "  </style>\n",
              "\n",
              "    <script>\n",
              "      const buttonEl =\n",
              "        document.querySelector('#df-50e38c8f-298b-43b1-8b2b-9505ff122a08 button.colab-df-convert');\n",
              "      buttonEl.style.display =\n",
              "        google.colab.kernel.accessAllowed ? 'block' : 'none';\n",
              "\n",
              "      async function convertToInteractive(key) {\n",
              "        const element = document.querySelector('#df-50e38c8f-298b-43b1-8b2b-9505ff122a08');\n",
              "        const dataTable =\n",
              "          await google.colab.kernel.invokeFunction('convertToInteractive',\n",
              "                                                    [key], {});\n",
              "        if (!dataTable) return;\n",
              "\n",
              "        const docLinkHtml = 'Like what you see? Visit the ' +\n",
              "          '<a target=\"_blank\" href=https://colab.research.google.com/notebooks/data_table.ipynb>data table notebook</a>'\n",
              "          + ' to learn more about interactive tables.';\n",
              "        element.innerHTML = '';\n",
              "        dataTable['output_type'] = 'display_data';\n",
              "        await google.colab.output.renderOutput(dataTable, element);\n",
              "        const docLink = document.createElement('div');\n",
              "        docLink.innerHTML = docLinkHtml;\n",
              "        element.appendChild(docLink);\n",
              "      }\n",
              "    </script>\n",
              "  </div>\n",
              "\n",
              "\n",
              "<div id=\"df-76c7ad34-58c7-48b9-aac1-a2ef00f3d7bf\">\n",
              "  <button class=\"colab-df-quickchart\" onclick=\"quickchart('df-76c7ad34-58c7-48b9-aac1-a2ef00f3d7bf')\"\n",
              "            title=\"Suggest charts\"\n",
              "            style=\"display:none;\">\n",
              "\n",
              "<svg xmlns=\"http://www.w3.org/2000/svg\" height=\"24px\"viewBox=\"0 0 24 24\"\n",
              "     width=\"24px\">\n",
              "    <g>\n",
              "        <path d=\"M19 3H5c-1.1 0-2 .9-2 2v14c0 1.1.9 2 2 2h14c1.1 0 2-.9 2-2V5c0-1.1-.9-2-2-2zM9 17H7v-7h2v7zm4 0h-2V7h2v10zm4 0h-2v-4h2v4z\"/>\n",
              "    </g>\n",
              "</svg>\n",
              "  </button>\n",
              "\n",
              "<style>\n",
              "  .colab-df-quickchart {\n",
              "      --bg-color: #E8F0FE;\n",
              "      --fill-color: #1967D2;\n",
              "      --hover-bg-color: #E2EBFA;\n",
              "      --hover-fill-color: #174EA6;\n",
              "      --disabled-fill-color: #AAA;\n",
              "      --disabled-bg-color: #DDD;\n",
              "  }\n",
              "\n",
              "  [theme=dark] .colab-df-quickchart {\n",
              "      --bg-color: #3B4455;\n",
              "      --fill-color: #D2E3FC;\n",
              "      --hover-bg-color: #434B5C;\n",
              "      --hover-fill-color: #FFFFFF;\n",
              "      --disabled-bg-color: #3B4455;\n",
              "      --disabled-fill-color: #666;\n",
              "  }\n",
              "\n",
              "  .colab-df-quickchart {\n",
              "    background-color: var(--bg-color);\n",
              "    border: none;\n",
              "    border-radius: 50%;\n",
              "    cursor: pointer;\n",
              "    display: none;\n",
              "    fill: var(--fill-color);\n",
              "    height: 32px;\n",
              "    padding: 0;\n",
              "    width: 32px;\n",
              "  }\n",
              "\n",
              "  .colab-df-quickchart:hover {\n",
              "    background-color: var(--hover-bg-color);\n",
              "    box-shadow: 0 1px 2px rgba(60, 64, 67, 0.3), 0 1px 3px 1px rgba(60, 64, 67, 0.15);\n",
              "    fill: var(--button-hover-fill-color);\n",
              "  }\n",
              "\n",
              "  .colab-df-quickchart-complete:disabled,\n",
              "  .colab-df-quickchart-complete:disabled:hover {\n",
              "    background-color: var(--disabled-bg-color);\n",
              "    fill: var(--disabled-fill-color);\n",
              "    box-shadow: none;\n",
              "  }\n",
              "\n",
              "  .colab-df-spinner {\n",
              "    border: 2px solid var(--fill-color);\n",
              "    border-color: transparent;\n",
              "    border-bottom-color: var(--fill-color);\n",
              "    animation:\n",
              "      spin 1s steps(1) infinite;\n",
              "  }\n",
              "\n",
              "  @keyframes spin {\n",
              "    0% {\n",
              "      border-color: transparent;\n",
              "      border-bottom-color: var(--fill-color);\n",
              "      border-left-color: var(--fill-color);\n",
              "    }\n",
              "    20% {\n",
              "      border-color: transparent;\n",
              "      border-left-color: var(--fill-color);\n",
              "      border-top-color: var(--fill-color);\n",
              "    }\n",
              "    30% {\n",
              "      border-color: transparent;\n",
              "      border-left-color: var(--fill-color);\n",
              "      border-top-color: var(--fill-color);\n",
              "      border-right-color: var(--fill-color);\n",
              "    }\n",
              "    40% {\n",
              "      border-color: transparent;\n",
              "      border-right-color: var(--fill-color);\n",
              "      border-top-color: var(--fill-color);\n",
              "    }\n",
              "    60% {\n",
              "      border-color: transparent;\n",
              "      border-right-color: var(--fill-color);\n",
              "    }\n",
              "    80% {\n",
              "      border-color: transparent;\n",
              "      border-right-color: var(--fill-color);\n",
              "      border-bottom-color: var(--fill-color);\n",
              "    }\n",
              "    90% {\n",
              "      border-color: transparent;\n",
              "      border-bottom-color: var(--fill-color);\n",
              "    }\n",
              "  }\n",
              "</style>\n",
              "\n",
              "  <script>\n",
              "    async function quickchart(key) {\n",
              "      const quickchartButtonEl =\n",
              "        document.querySelector('#' + key + ' button');\n",
              "      quickchartButtonEl.disabled = true;  // To prevent multiple clicks.\n",
              "      quickchartButtonEl.classList.add('colab-df-spinner');\n",
              "      try {\n",
              "        const charts = await google.colab.kernel.invokeFunction(\n",
              "            'suggestCharts', [key], {});\n",
              "      } catch (error) {\n",
              "        console.error('Error during call to suggestCharts:', error);\n",
              "      }\n",
              "      quickchartButtonEl.classList.remove('colab-df-spinner');\n",
              "      quickchartButtonEl.classList.add('colab-df-quickchart-complete');\n",
              "    }\n",
              "    (() => {\n",
              "      let quickchartButtonEl =\n",
              "        document.querySelector('#df-76c7ad34-58c7-48b9-aac1-a2ef00f3d7bf button');\n",
              "      quickchartButtonEl.style.display =\n",
              "        google.colab.kernel.accessAllowed ? 'block' : 'none';\n",
              "    })();\n",
              "  </script>\n",
              "</div>\n",
              "\n",
              "    </div>\n",
              "  </div>\n"
            ],
            "application/vnd.google.colaboratory.intrinsic+json": {
              "type": "dataframe",
              "variable_name": "data",
              "summary": "{\n  \"name\": \"data\",\n  \"rows\": 47,\n  \"fields\": [\n    {\n      \"column\": 0,\n      \"properties\": {\n        \"dtype\": \"number\",\n        \"std\": 794,\n        \"min\": 852,\n        \"max\": 4478,\n        \"num_unique_values\": 47,\n        \"samples\": [\n          2526,\n          2162,\n          1458\n        ],\n        \"semantic_type\": \"\",\n        \"description\": \"\"\n      }\n    },\n    {\n      \"column\": 1,\n      \"properties\": {\n        \"dtype\": \"number\",\n        \"std\": 0,\n        \"min\": 1,\n        \"max\": 5,\n        \"num_unique_values\": 5,\n        \"samples\": [\n          2,\n          1,\n          4\n        ],\n        \"semantic_type\": \"\",\n        \"description\": \"\"\n      }\n    },\n    {\n      \"column\": 2,\n      \"properties\": {\n        \"dtype\": \"number\",\n        \"std\": 125039,\n        \"min\": 169900,\n        \"max\": 699900,\n        \"num_unique_values\": 40,\n        \"samples\": [\n          252900,\n          199900,\n          449900\n        ],\n        \"semantic_type\": \"\",\n        \"description\": \"\"\n      }\n    }\n  ]\n}"
            }
          },
          "metadata": {},
          "execution_count": 22
        }
      ]
    },
    {
      "cell_type": "code",
      "source": [
        "# feature normalization\n",
        "X = (X - np.mean(X))/np.std(X)\n",
        "print(X)"
      ],
      "metadata": {
        "id": "yr1LwY3meBKw"
      },
      "execution_count": null,
      "outputs": []
    },
    {
      "cell_type": "code",
      "source": [
        "# adding the intercept term and initializing parameters\n",
        "ones = np.ones((m, 1))\n",
        "X = np.hstack((ones, X))\n",
        "alpha = 0.01\n",
        "num_iters = 400\n",
        "theta = np.zeros((3, 1))\n",
        "y = y[:, np.newaxis]"
      ],
      "metadata": {
        "colab": {
          "base_uri": "https://localhost:8080/"
        },
        "id": "chfTXF43aVXD",
        "outputId": "6753503f-1d5e-4be5-99ea-17bc70f0790a"
      },
      "execution_count": null,
      "outputs": [
        {
          "output_type": "stream",
          "name": "stderr",
          "text": [
            "<ipython-input-24-d6309e8ff47a>:7: FutureWarning: Support for multi-dimensional indexing (e.g. `obj[:, None]`) is deprecated and will be removed in a future version.  Convert to a numpy array before indexing instead.\n",
            "  y = y[:, np.newaxis]\n"
          ]
        }
      ]
    },
    {
      "cell_type": "code",
      "source": [
        "# compute the cost\n",
        "def computeCostMulti(X, y, theta):\n",
        "  temp = np.dot(X, theta) - y\n",
        "  return np.sum(np.power(temp, 2)) / (2*m)\n",
        "J = computeCostMulti(X, y, theta)\n",
        "print(J)"
      ],
      "metadata": {
        "colab": {
          "base_uri": "https://localhost:8080/"
        },
        "id": "09uXfe-leu2J",
        "outputId": "85ba5117-e615-4012-86d9-563fa6d3d511"
      },
      "execution_count": null,
      "outputs": [
        {
          "output_type": "stream",
          "name": "stdout",
          "text": [
            "65591548106.45744\n"
          ]
        }
      ]
    },
    {
      "cell_type": "markdown",
      "source": [
        "![image.png](data:image/png;base64,iVBORw0KGgoAAAANSUhEUgAAAtkAAAFfCAYAAACbTNDGAAAAAXNSR0IArs4c6QAAAARnQU1BAACxjwv8YQUAAAAJcEhZcwAAFiUAABYlAUlSJPAAAGzJSURBVHhe7d0HXNTlHwfwzw0QURT3wAGiiHuLCuLKlVq5Z7kxLTVz75GrDGcpDtTMmTsclVqJiIArURE3WqKiCMqQcXfP/5Cff9kccMgBn/frf/+87w3W8/v+vvf8niETWiAiIiIiIr2RS/8lIiIiIiI9YZFNRERERKRnLLKJiIiIiPSMRTYRERERkZ6xyCYiIiIi0jMW2UREREREesYim4iIiIhIz1hkExERERHpGYtsIiIiIiI9Y5FNRERERKRnLLKJiIiIiPSMRTYRERERkZ6xyCYiIiIi0jMW2UREREREesYim4iIiIhIz1hkExERERHpGYtsIiIiIiI9Y5FNRERERKRnLLKJiIiIiPSMRTYRERERkZ6xyCYiIiIi0jMW2URE+V34dZw4fR9q6S4REWUdi2wionwrBo/PbcSYdq3w0cLjeKaRwkRElGUyoSX9m4iI8rro89g0cyu8Ah/ilv+/iBUhuHTlIdBmDQJOfIly7HohItILplMiovxEUQLVmrbFJ07fYIf7RZyaaQ9T6SEiItIfFtlERPmJsgpa9emJrq3ro2JhBU8CRETZhPmViIiIiEjPWGQTEREREekZi2wiIiIiIj1jkU1EREREpGcssomIiIiI9IxFNhERERGRnnEzGiKifCxq3wCU67MLkdyMhjLoyb07eKXScZtQuRJyuSnKWpZFYbYxyidYZBMR5WMssilzQlHW2ApFW7RFixoWMDc1hlI8wl9bfsGlSGt0HtENNU3lEKpIBN85i6O/+2lf0RSLbpzGZGuF9B5EeRuLbCKifIxFNmXKi134cEcdHBxbGwWkkCZoE7pVccKfdqtxS9uWKv6/LYVi/6fNcehCY3S/+DN6cItRyieYTomIiChDgo8dw5ox7wrsOK893XHhtRI1W7ZK8mHNFGXK10X5utVgbSyFiPIBFtlERESkO80zHP3LGFaJRn3E4LK7F17ILNDM0QZKKRpPhaBQM4SaWcMy8QNEeRqLbCIiItKdvBBazViQuIBQ34P72QBoijSFY5OE/dtxTGA/dSamzvwIRaUIUX7AIpuIDFgYLrp8jUW/h0j3syDSA9+Pd8aZYB1XQ8gnNHg3LccgJuiEXYTL14ugjz85ZZDOx4gpKltbSP+Op3nujjPXVDBu2BIOhaTg/8lRpooVqliZSfczge0i5zB3ZhqLbCIyUBG4sKwfJl5rixHti0mxtKgR7HcSO1YtxDcr9+LiM7UUl5g6YHiPYMzrPRt/h/BkES8S924EaP9fWyT9dwN+L3P49xJxAcv6TcS1tiOg05/8PVEH++HkjlVY+M1K7L34TNvS8p4Yz6UYtCQcPTN5jLz2PIOLUUrUdHBEGX1XFmwXOSQGnksHYbZ7LebOTGKRTUTZQ30PG3rXRNWqVWBlaQmrKlVRzcYGNtpbtWo2sG02FaeipOcmo0HggXFwOu6I1c5d0z9pR9/DoWmd0XmaO5RNP0an4r9heJtROBCY+IRQrNU32Nj/OiaM3IZ7ebFS0oXKF87d6qFO3dqwtaqClt/7wcSsCEyfbEcvG0tUr1UHdeo0x+QT0dIL3hNNIA6Mc8Jxx9Vw7lomzZOTJmgPRtSrBusqVVBV25bi2tSbdmVticrVe8DlbpI/bowX5jlURoUKlWBpZS21Q+3rrRvgi8MvpSelJBr3Dk1D587T4K5sio87Fcdvw9tg1IFAbQvNW+QFInDNZSV+rzwvE8dIDC6d9kKIrDyaOVZPMh47i3RuFxoE7RmBetWsUSVBrnnzd7asjOo9XJC8WcyDQ+UKqFBJm5+sq8U/X/t66wZfIM1mkW/ahRwFIq7BZeUevHRg7swMLuFHRNlOE/0I2wbUw/ADL6BsOAV/nlgM++JpnC4fbEaP1ltg9+spTK+TznIE6gfYPaQdxj/6HCeOT0LduOGg6vtY0a42fqxzBL5r2iDRimHaxzZ83A672x7FH1/X0G9BQJmkwYPNPdB6ix1+PTUd6f3J39KE+2PrsA/gtPcR1PISaLfgELZPdkDZFF6vCb+KxZ2aYI5PETTs/SUmfvEpOje1gnmqDUCNB7uHoN34R/j8xHFMim9YuL+iHWr/WAdHfNegTS5Yik519xjW7TmPFzEi7eFAIgTntqyDT+lx2PXraDx0aq/7MaL2w8Lm9TH3TnfsvL8HffU28Doz7UKDcP+tGPaBE/Y+UkNeoh0WHNqOyQ5lkfzl2udeXYxOTebAp0hD9P5yIr74tDOaWpmn8TPnhXahwt1j67Dn/AvEpFMCipBz2LLOB6XH7cLRJdVxuDtzZ0awJ5uIsp3cCAgPDdee5JWo89FA2KVRYEPzFAdmzsf1TnPwZbpn1Qh4zuuFUUcqY6bLhPgCO46iPGrYFMPDQ7txJmmHrMIKQ+YOQOjy6fj5IS99GgLN0wOYOf86Os35UucCO468sC0+mzkC9Yxl2mrgNVQFy6JUaq8Pu4U74fUxdo83PHfMQf8WaRXY2pblOQ+9Rh1B5ZkumPCuYaF8DRsUe3gIu5M1LMOkCg3E3bv3cO9e2rebHsfg8Z8aiH2Fl9GWGTpGNM/OwOO6NB47C8Ouk8pcu5CjsO1nmDmiHuKbhQoFy5ZKocCOF3brDsLrj8Ueb0/smNMfLdIssPNKu1AhNPAu7qbQDhLfbsLjmAfim8VLRMqZOzMsriebiChbhe4WfYrJhbbAFV/+GSUFUxZ9foaoa+Yglt1USZHUvfaeJRoWNBZ1pnuJxO8aLTwn2wqlkZ1Y7J/C+6gfiQ0fmovKw4+IUClEOSVanJ9RV5g5LBM6/MmTUz8Q6zoWETLIhFHNqeJctBRPQP3itJjdsYOY8edzoZZiaXrtLWY1LCiM60wXXkmaa7TnZGGrNBJ2i/2lSO6nfviLGFKtmKg9Ype4/fptUPdjJGzfAFFCbiQazr0iYqVY1mWtXagfrBMdi8gEZEai5tRz2ndLSi1enJ4tOnaYIf58rlOryGftQi0e/jJEVCtWW4zYdVu8bRbMnRnDnmwiynbRF07D+5UG8qJ2cGz8tvcnJWE44fIzHrQYiP5V09l6WXUdqyasxBWTTvjqyyaJNsWIo1ap3/SKPwpUSZEE5OXR87MOiNy3Brv+ZY9Mjgo7AZefH6DFwP5I70+eInkl9Bv1McoqBGJvbsf635IMpo24jJVD5yPky634pk0JHS7fqnB91QSsvGKCTl99iWSr0alVUEODp48CpUBup8Gjk4cR8MEmHHPph6omUljnYyQKPn+eQ6isHOwc9DgeO4vtQl6pH0Z9XBYKEYub29cjebNYiaHzQ/Dl1m/QpoQupVA+axeaRzh5OAAfbDoGl35V8bZZMHdmDItsIspmKvi7n0OgWoYCjVrCPtnyXgm8cMOWA8Fo3K1butt7vzy+HD94R6L0R8PQu3zSJ6vw9Mlz7SkvFtGpTK4s3r4bHGTu2L0vQHtypJzywm0LDgQ3Rrdu5TJ9QjL/8HMMrKYt79SBOOiyB4/envtjbsJ1xERc7bsJK7rq+P4vj2P5D96ILP0RhvUun+w1qqdP8Fz7/rGpNaxcR46KQ7fjr7U9UDFJMZvmMaK+g0H9B6DvJ+0xem8ICptF4/TiAejXrz9Grr2AGOlpmZX1dmGODz8fiPhmcRAuex5p80G8mJuuGDHxKvpuWoGu6SWat/Jbu5BXxNDtf2Ftj4pI+hmHuVN3mWu7RES60jyG+xl/bdkbv7xX6TSyTvjp43CPqI02bcumnZzU97Ft5V48Qnl06dseyYaBqh/A/044NLKCKFRIJgWTMG+Ldo0EvI8eQ5JFSOi9Ccfp4+6IqN0Gbctm4XRUwA4jhzdHQZnAq1Mb4XpdpW0DD7Hvi9H4o/UPcOlvpWMPqxr3t63E3kdA+S590T55w8ID/zsI18hQsFBanxbziLSOEUVVbN+1E3sOncHNoBCEhjzB9T/3Y/fuXdg4pnGqY6B1o592UcBuJIY3LwiZeIVTG10R3yz24YvRf6D1Dy7ob6VrvzvbRSLMnTpjkU1E2SvMA+6XoyEUFdDcsVoaxU40vP5wR2ipumhYJe3rw+qbO7HdIxyykm3RpWUKU/kjr+DKbe0ZVVYK5cqn8l7ykmjYoDLUF91xNkKK0fsV7YU/3ENRqm5DpPMnT4cCVT9zQuficoiYy/hp3UEcnjoCP9t8C9dRNZMNJUqV+iZ2bvdAuKwk2nZpmXhVmjciceXKbe0HRhlKlSsvxQyRBsFe6zF5xHAM6dMTI1acQVBKxVDMPRxdvhCbPIOlQBI5dYzoq11oPwh85tQZxeUCMZd/wrqDhzF1xM+w+dYVo2rq3CryTrvQBMNr/WSMGD4EfXqOwIozQf/v3U8o5t5RLF+4CZ6pbT7D3KkzFtlElK2iz7vDO0xAXrRZ2uOx1YG4cv0xZNVqo7aRFEuRGv4HDuNyLGDWoj1aFZbCCURf9MTFN1+zKqqnVmTDGDXr2MI44houXc/qxW3KDHXgFVx/LEO12rWR5p9cB/LS3TG6dyVtua3G/U2jsNRoBrZMbIIUmkeq1P4HcDi+YaF9yg0LnhfDIORFUbW64RZTUeeXYfwmJQavcsWmKbbwntYfU91CpUffCTsyB0Mnz8e3v/hJkaRy5hjRX7uQo3T30ehdSZsD1PexadRSGM3YgolNMtIq8kq7iML5ZeOxSTkYq1w3YYqtN6b1n4rkzSIMR+YMxeT53+IXvxTms7zB3KkrrpNNRNlIhcuzG8NuoS+UHX7E3eOjUx9rHX0cI60/woHWe/Boe493E22SUvtjiUNdzPTSoHTzfujVqBiSDgiJuuGGraceQtFqOW7++RUqp/I1o//6ErYdtqHRtsfY1z8jl3mjcG3P99hx8RVUWUqhMshNKqHj6DFom2xced4XfXwkrD86gNZ7HmF7j1T/4jpTXZkHu6YLcCm2IFo7++LkBOtk40lTp/3wtsQBdWd6QVO6Ofr1aoRiyRsW3LaewkNFKyy/+Se+Sq1h5SS1H74ftAbWq35E99JyRJ/4HNU6b0bxGd64sKBBgitJ0fjzi+ro4PIKvXY9wO4+Ka+9l/ljJPP02y5UuDLPDk0XXEJswdZw9j2JCdYZ6R7PG+1C7fc9Bq2xxqofu6O0PBonPq+GzpuLY4b3BSxokOD6YvSf+KJ6B7i86oVdD3YjlWaRI+0iN8p/WZ2I3h9NINw93o3HLpVWxon4D/89B0qWSWe3v2APeFxVQSit0a53RzSzs4NdwltTW2ieBmpPjUrYOraGRRpvpixbDqVlUQh8+EiK6E4VFYnw8HC93F7H5s++joj//sNzlEQZvezDHY075/0QZqyETLzG2c2uuJiRTjZNMDw8rmo/NClh3a43OjZL0q7smsJW8xSBam27sXVE67QaVg6K9nCFR9Vh6PZm8kM0vI6cxGNRGNVqWCYeqqXyx+lzgdAYN0JLh9SLpKwcI5ml13YRfQfn/cJgrJRBvD6Lza4XMzYpM0+0i2h4uHqg6rBu8XNior1w5ORjiMLVUMMy8QA+lf9pnAvUwLhRS6TRLHKkXeRKbxbyIyLKDiHbRQ9zmYCiihj7V9rrY6vvOwtHYyPRYM4/aa61G3VqjLBUQMjLDRdH/r94awJh+8SAknIBo3pi9qW0V+1VP1wpWhsrRc2pXlKE3h+1uO/sKIyNGog5/2R1dWWVCNgzXLTp4yLObu8ntIWEts1VEMPdXkmP6yDqlBhjqRCQlxPDU25YYt+AkkIOI1Fv9iU9rgetTyrhv3aaWH1N+u4i/hCfV1YIeekBYm9IfOgt9cM1oq2JTBg1mid80/hh3v8xosd2oQoQe4a3EX1czort/UrHrVksFBWGi4w0izzRLlT+Yu201eJds/hcVFbIRekBe0XiZqEWD9e0FSYyI9Fonm+aPwtzp244XISIsk30b06w7roRj837Y0/ATvRKYyik6vo3aNbgGyjmXYHnjBqpXuYP3tgZFqN+h7zDOtw/NgpJO7sifxuF6tqv+bTubJz3mY96qc+0BJ6tR6eKX+LOqJO4s6qVFDR8r1+/xu7du6V7hqd3794oXDi9ca8qXP+mGRp8o8C8K56YUSMjl/AT0uDJsa8xaENFfLtjIhop3PFV3XZYdVsD864bcP3wcOg0Eid4IzpbjMLv8g5Yd/8YRiVvWBhVvSs2Pq2L2ed9MD/NhvWO6vpq9Om3Blci1Glva54GmaIw6o/fjf1f1pQiugl3G4bq3bdBNvgQ/F27Jhqf/nJ3H1gOPIBiY07gxpo2qU8Ofe/HiJ7aheYJjn09CBsqfosdExtB4f4V6rZbhdsac3TdcB2Hhydfhi9Fea5dhMNtWHV03ybD4EP+cO2aqFVgdx9LDDxQDGNO3MCaNmnMocmlufN9Y5FNRNlEhQszG6LF4mtQdliLu8c/T3Pta7X/EtjXnQvVrEvwmlM7lVVI1PEn4Dn/oNpUD1xeapdkqbAonBxji04uwXBc+Q9OjEt7TK7myVp0qDwej8a548ay5lLU8D1//hxdunSR7hmeQ4cOoVy5ctK91MSNdbVH3bkqzLrkhTm1dStOEtMgxH0eBiyRYfrOuXAsFtfA1PBbbI+Gs7wRY2yHhZfOYkbN9As19ZsPeXPwT7Wp8Li8FHZJ1qCLOjkGtp1cEOy4Ev+cGAedh/VG/wufUxfwb2RWiilTVGrcDk0qZmBFDG0xdXhINfTYrsDQX29h04cJ18SIxsnRNui0IRx9dj/Azt6pfyB6/8eIHtqFJgTu8wZgiWw6ds51RHyz8MNi+4aY5R0DY7uFuHR2BnRoFnmvXYQfxpBqPbBdMRS/3tqExM3iJEbbdMKG8D7Y/WAn0mgWuTZ3vndxRTYRkd6p74vlrYyFDEai8YJrIr2dkeMuP7YxNhK1pvukcZkyVlyeXU8YyQqITuufS7EEXv0qhlkohKLicOGmw56/qnvfi5ZGRqLR/KtSRHfqqBDx+L//xMOHD7Nw+088Cgoz0KEH2U0tHq5sI4yNaonpPpn7DYSfXya6tflSuD1OvC22+pGr6GYu19YuSlHtq9PvtoROQ+zl2aKekUwU6LReJG9Zr8SvwyyEQlFRDNelYRmC18fFSO2xIC/9mTgYLsXeir0sZtczErKCHcTawLS3FM/KMZI5WW0X4eL8sm6izZduInGzUItHrt2EedxQImU18dVpXVpF3msXr4+PFBZxQ0U+O6j9TSX29mct2GGtSKdZ5EC7yJ10ulpCRJSilxewacJA9B/riiuRUuytEHe4X46FUFZCC8dq6a7yIC9RDqVNBUKfByP1XcRkMCtcSPsfUxQvkXRWjgaB+zbh4JPCcJwwCZ2LSuE0CO3XCtG+p3mJElJEVyHYO6wmrKysUKVKlSzcrGBZpRXm++THZbDkKFGuNExFKJ4HZ3zfuOgbGzD06yvoE7drX5INS+Tle8OpZ3ltm1Ph7i4XuL2QHkiDzKwwCmnbgmnxEtr/JqYJ3IdNB5+gsOMETNKlYRkA1Q1P+ARpYNLIAS0KSkGJJtAdHv4qKGs5wDGt3aG0Mn+MZFZW2kU0bmwYiq+v9MGmFV2RuFnIUb63E3rGLempuotdLm7QoVnksXahwg1PHwRpTNDIoQUSNwtt/nT3gL9KiVrpbBoW5/23i9yJRTYRZZr30iEYs2ondruswO5riddUDf7tV5wOF1BU6oxPkl5jTYnSElYWMgQHBiJpvf6OAmUqW8BUJoMsafaK8sJK5+OIbToFK76wTbeoj6N6/BhBKIOqNsWliK6Koe+OQLyOiUFsbGwWbjGICbuIb5pmbX+83EppaQULWTACA1P/i6dEdX8XRjkdR8sfNmJQlZSGE5ihw6hPUdNIBk2QGzbsCkhx042EFGUqw8JU266SNyx4rXTG8dimmLLiC9jqOhwgh6nu38O/agUsbGvAPMmP9MrDHZdjFKjUwhHV0vl5Mn+MZF7m2oUK93eNgtPxlvhh4yCk3Cw6YNSnNWEk0yDIbQN2BaS/XWHeahfa39G9f6FWWMC2hnmSAvAVPNwvI0ahW6dITrSL3ChpqyEi0tkt/3vatG0Cy65fYFD9BGe16CtYu+YYQlECHad+DUddlro1roZaNgWhDriN22l07JraNUd9ZQRCXryWInEicG7ROKx72hLz101EPZ1qVjUe376DEFlV1LTN6lYolBnG1WrBpqAaAbdv67ysWtTNHRjZex0qLN2KsXVTb1jGDUdguIMpZCICpzdtwZXU9tV4y9QOzbVtOCLkBRK1rHOLMG7dU7Scvw4TdWtYBkFmWhAFtR9GzYoUTXyi1wTjDzcPvJIVhZ1jo3S2P8+ZYyTj7SIKN3eMRO91FbB061ik3iyM0XDEcDhoi2YRcRqbtlzR5q905Kl2IYNpwYLaDwxmKFI0cfmnCf4Dbh6vICtqB8dG6f08zJ26YpFNRJlmW6sZem+9izsHR6PW//PyS7jPGYql5+Wo6bQJG0dY6dSrDBSBvX09yO5dge9LKZQCeaU++LRDYVw776M9tcYLOTUTTusEnHbuxlf1dJ0EFA1f31uQ1XCAY1ozMin7FLGHfT0Z7l3x1baatMU888Wh74bAwX4wtoc1RIcG6VyeVytRtkJJ7UlOIPbqJiza+SDtgkpeCX0+7YDC187D513DwkyndRBOO7H7q3q6b89uAAo0aQf74hoE3LiOcCkWV4z6uY7EpP1BECaN4WiffIPwxHLoGNG5XcTgme8hfDfEAfaDtyOsYQek3yzKokJJ7c8iYnF10yLsfJBOmZ2n2kUBNGlnj+KaANy4/q5VIMoPriMnYX+QgEljR6TbLJg7dSeNzSYiyjD1kyNiQvuuYtLmE+LqkzARfPOUWDO0vihtYS+cfjwrgtKZPJNU7PkZoo5RGTH4UNIpOYnF3tkmPm3UXAz+br1YM3uAcGw1XGy4ECIy9OWiPcTXNsai2lfuIloK0fsWK87PqCOMygwWqf3JYy9/JzpVKyeKmxcVRYsWEYVNTUQBIyNhVmWY2BssPSkRtXiya6ioXkr7XLO418TfzM1LiQrWNqLuAFdxP7VZuLF3xLZPG4nmg78T69fMFgMcW4nhGy6IkAy2Y8OgEvf3jhUtKtcQH81aJ35yXSFmDO8thk0cJBoYy4RRk4XienqzkXPsGEmvXcSKy991EtXKFRfmcX/fIoWFqUkBYWRkJqoM2ytSbhZPxK6h1UUp7XPNpDZRtKi5MC9VQVjb1BUDXO+nPjk7L7UL1X2xd2wLUbnGR2LWup+E64oZYnjvYWLioAbCWGYkmiy8nu4kdeZO3XEJPyLKmoi7OLl7L/7yfYBXBSvCtm4ztO/WFjapbMebJtVFzGpkjx32R3FjbbvUt1aPExmIKz5+CCtdD01qlspwb5Lqylw0bbYHbU9ewff2uamPMmWa8PvwcT+PW0+jUKCEJeo0b4aapQz/Mrbq4iw0st8B+6M3sLZdVrfQ1odIBF7xgV9YadRrUhOlcnvTiHyEK+evIlCURc0GNVHgl09QddRJWE33xOVFjVNZKjNeTh4jbBfZK/LRFZy/GghRtiYa1CyAXz6pilEnrTDd8zIWNU572cS8ljuzE4tsIjIgatxd+QEaLLfGbr9N+DC9/UwyLQbe0xrgA4/BOH96Sq6ZzJYidSBOLh2HmQdDYdmwLiyLRODO2WP47WIUbD4Zh0XLpuLDygZcbKvvYuUHDbDcejf8Nn2YaMMUyqSIOzj950OUadkatglnPWr+xfoutTHGvTYWnXfHtDQXis7hY4TtQu8i7pzGnw/LoGVr20STYTX/rkeX2mPgXnsRzrtPS2f98DyUO9+HuCKbiMhgvDolxlYvK7r/9Dhjwz8yIuRXMayyhei/52n2fY33QR0kjo1tIdpMOiICEu1a/0r8s7a7qGQkE0qLbuLHa2lvaZ/TXp0aK6qX7S5+SrLeNWWC+pH4qXspaZvvy4nWYA/7+ytha2QsbMedFOmu6mwAxwjbhf6oH/0kupeSCxjVE7MvJ2oV4u+vbIWRsa0Yd1KHtb7zSu58T1hkE5GBUYunewcKy7pTxTnd9ovIoFhxbXELYfGhi7iX7uBDwxb2xxfCvu828TDFs12w+HVYJaGATBRqvlj4GvKON+qnYu9AS1F36jmdNo6hNESdEKMrGwszy07iO58IKaj9FT//Q4yrVVCUcFwovMKkYKoM5Bhhu9CbqBOjRWVjM2HZ6TvxrlmoxfM/xolaBUsIx4Ve2nI7PXknd74vnBZKRAZGjtI9FmNxLTdMWf4PoqWovqhvumDiVnPMcB4Oq1x9qTMUR1xPw6JtXRinuEBCcXQc0QfVlAIR512x6ay+f5N6JC+NHosXo5bbFCz/x4C/z9zAqA7sW3fAhF27MblJ/DIRkXcPYeono+HRxBnHDk2HXTpjLwzmGGG70BujOvZo3WECdu2ejPhmEYm7h6bik9EeaOJ8DIem26U7JCfv5M73h2OyicgwvTyDmR/Phmb+QSxpVUwKZlHERSztPhb/jj+ENV1K5+41TGPOYXI9R3x/U6BMn+3w3dkv+S5tETvRs+wgHAhXwmGZP85MqiI9YJhenpmJj2drMP/gEujrT54faZ55wmXhBvhEGsNY2ybUalPU6vkVvuhsmf4EYQM8Rtgu9EGDZ54uWLjBB5HGxtq/qxpq01ro+dUX6Gypw+TFvJQ73yMW2URksNT/HsRXI/eghvNPGFMri7PY1QHYNWo0TrVehbWDbNLZhCMXUF3BXLsm+OaSCiatl+P6ya+S9y5FHcAgi97Y8UKBhnMv4uK8OtIDhkqNfw9+hZF7asD5pzHI6p+cMshgjxG2ixyV13Lne8Qim4gMW9gtXH1mgTpVCkmBTIp5gKt3zFCrZvE80wsTfn0/NhwLRcPeA9HaMvkyZ5qHq9Cu2gT8HVsI3VwD8OvQEtIjKtzdvwDLjj/A81BTtJm4AKObl9L+XqJw7/f1+HGnJwKFMWKDX8Ck4WBY1amFaX1q4c1fIOIuft+8EYeuhUL1OgiBocVgP2oWJnWx0tvJN+zWVTyzqIOs/skpgwz8GGG7yCF5MHe+LyyyiYjyJA2CtvaAzbDDCCvaFeuvHcYIi/hTZMyFJRi6ozZWOHfG4/lN0HRDVWz2XoZCP0zGoeLDMXdcJ1iZat/h8Q70azgUZ4JL44Odl7Cp/t+YNe80Ko6YCqfWlWCiLdbv/dgFjSY+xJDj57GiDRdaIyJ6ix9KiIjyIvUtbN10Aq9QCA3HzcEgqcAGInBq+w00G/shSstlKGhaEOLpUSwd+DWON/gOm6bFF9hx5OU6oF09OerJA3Fo3RxMmX8ZHzivwbg3BXYcJSq3b4samtv4ZYe73iepEhHlZiyyiYjyHDUCtk7B9+eiUbrzt/hpRpN3u2dG/oVfgxrjI8u4AdzR8Lt+R/tsFVQNvsR3/a0S7wCoiUTka4HXQiDi3CUU+2ouOpZJfNoQUa+176JB2Ksw7fsQEdFbLLKJiPIY1S1XjJt5HOoWs7Fv+xeomWCimPrhQ5Rw7IgKcdk/5hq8LoZAmHXEpBmtUTT+Ke9E/YMr/ir4q+Qo+fEkjG+UfNx3mK8v7qqUqFS1CidEERElwCKbiCgvCfkbM/tPgpftbBw6PBsOSZY8U9iOwcLPqyOuH1v93xl43lHDqEFbtEu2/p+2Br/qCZ8XAi+EKezat0Hy1dOi4Pm3N8LlpdG8ZZ3EveBERPkci2wiorwi6hp+GDgIu8rMw1G3OWhZPO0UH+rujn9ilbBp4RDfs52IGo/OeuGuWgm1si5aOhaX4glEe+H3v55CmLdE+xbJe7mJiPIzFtlERHmB+iH2ju6HtUUX4LcDX6OJmRRPVSTOnvZGhLw07BxS6oUOg+fZK4hVWENhbY+WlZJv8RbtfRDHHwoU++ATdEg21oSIKH9jkU1ElNtpXuDvWQPxrWwWjv48DDWTdCrHnJmLLzY8kO5JYnzh4R0MUagJHJul0Asd5YXT3uGQlWyGks1aol6yAddROPuLG+5rSqJjr44wjwtpguB95tqbR4mI8jsW2UREuVoUfH8YjrnPvsTeDf1glaxLWoPHF68hunQZ6X489aOz8LqrhlE9B7RMoRc6xvc0PJ9qYNrEEU0cW0Ba1e+dyL+x+9eHQLmu6N/pTYkN9b3tWPHLv2/+TUSU37HIJiLKtdR4sGcsplzuhlWLPkCRl8EIDn53e/Y0EAF+f2OLWwisbIyk18R7ecYDV2IVqGbfEhWTjQRR4z/t47fVStRr6YiWjvFFdEIxl0/g9GOB0h27I34PGhWu7vRChZ5t3jxORJTfscgmIsqVNAg+NQ09Rrji963D0aBsSZQsmfhWuqwFrGq1w4JLpWFTOWElHYVz7j4Il5dBs5Z1UxyPfc7zKmIV1eDQqiJaJa/CITcpCBOZErZ166Gg9r7q5gY43++MsS05AZKIKA6LbCKi3CjmHBaPWYlL4UIKpE5pVR02CdbKhvoR/PyfASVbo3NKq4LE3MJV/wgoq3bBx/WNof1fMsr6wzGxRwU8OOmKDSunYMi8Jxi4dDAS1fJERPmYTGhJ/yYionwi7M45XJfVRjPrlJYh0eCFnydumzaAnWUhKZYCzUvcP38Bd1QV0aiZDYqzwCYi+j8W2UREREREesbhIkREREREesYim4iIiIhIz1hkExERERHpGYtsIiIiIiI9Y5FNRERERKRnLLKJiIiIiPSMRTYRERERkZ6xyCYiIiIi0jMW2UREREREesYim4iIiIhIz1hkExERERHpGYtsIiIiIiI9Y5FNRERERKRnLLKJiIiIiPSMRTYRERERkZ6xyCYiIiIi0jMW2UREREREesYim4iIiIhIz1hkExERERHpGYtsIiIiIiI9Y5FNRERERKRnLLKJiIiIiPSMRTYRERERkZ6xyCYiIiIi0jMW2UREREREesYim4iIiIhIz1hkExERERHpGYtsIiIiIiI9Y5FNRERERKRnMqEl/TvnqKMQ+vwpnga9gKxsPdiUYu1PRERERLlXzlazmifY0qscCpmYolhZS9jWa4npJ6KkB4mIiIiIcqecLbLlZTF032O8euaDBQ6FIJPCRERERES5mUGMy1CY14Vjw7JQSPeJiIiIiHIzgxn8rFCwxCYiIiKivIEzDImIiIiI9IxFNhERERGRnrHIJiIiIiLSswysk61B4G8rsOLkUyiMFNJKIAJqtRmaj5oE2wtL4HrhNZRKefxjQgN1gfoYPLs/ailVuLFnITZLj795ncYSH8/+HPaF454cA4+v66DNykf4aHsQ9vd9BU/Xldjs8UT7VV/h0RM5qncZg0lftEUlZdzzUxIOv33O+HaTO16UqITimlA8ehwNqy7jMWtcR1QuEP8s9f0DWLD4EPyfP8fz58EIs/0KR9f3QPjR77HswF2Ev3wONP0K301pi7IJP4KE+2Gf87fY5P4CJSoVhyb0ER5HW6HL+FkY17EypLcnIiIiIspIT7YchSo3QJMahXH7wAp8u/RbrHb7FyVq1Ye1uQLFbRqjobUMl35ehqXfLseBu4VRrY41Srz5CnIUq2wN07uHsOpb7esO3IBCe7+M0Zs3Tkx9Bz9/NQVHSozAD9u2YvO2fdg5tQL+mvIh2n5+EE810vMSirmL3SPsYD/ZF02+2YvDO7bgp10HcWzbCGBzT7Tovga+0vLbssKVUL9FM9Qt+hQXPH1w5X4w/ts3BXMu2mH26h5QnjuKn2ePwlKPmPgXaMXc3Y0RdvaY7NsE3+w9jB1bfsKug8cQ//Yt0H2NL7i6NxERERH9X1xPdsaoRdC27qKYXC5K9t8rQqVoPJW4/X1LUVBuLj7ZGiTFEni1U/S26iY2BqilwFvR4swEG6GUmYgmnZzEnL8Tv6tQ3RRLmxsJmbGDWHZHJQXfCheeMxsJU6WVcDqW5HVaoW7DRUVlYWG/9JqIlWJvhG4VHxWUCWP7AWKEk4u4F/e2sb5ixYeVRelqfcTG29LXCfcUMxuZCqWVk0j+9qHCbXhFoSxsL5ZeS/TuRERERJSPZWJMthyluvZDh+LAixP78XuIFH5DAcu2rVBN8RJ/7XdL1uusCrgLRa/J+LRyKl9WRMNPUx9OLYtKAYmiAqwtC8WN9cDNWyopGE99ZwNmrLyEWNv+GNk+yeu0in7QC53Kvob3li3wedc5DRgVhIkxEHvZE7LOA2AVt4Kgsg6+OhqAp7f2YETVuIAadzbMwMpLsbDtPxLJ374oPujVCWVfe2PLFh8kfHsiIiIiyr8yUWRrFeuIPp1Kaavs3/HLsWApGEeNe3/+g7CSBRH2914cepKwylbh6v7rqNLDLo3xy0pUb+GAMsm+KzkKFiwImSYCEREJh5Cr4L9rB85GyFCiaQvUTmm8tnF91K+ugOqeD849UkvBBERNNG1pJt1JQuWPXTvOIkJWAk1b1NZ+d8kZ16+P6goV7vmcQ0pvT0RERET5T+aKbBRFhz4foqwsFCd/+fVdj7X6Fg56WmDBvI4oEuGOvQf+w//L7JhLOHDTBt0bG0uBlMhQrGTJNL4pAY1IWLi/gre3n7bUlsHklR8O7N6N3Ulvv5zAnUg5ZOI5goKSV8HykhVR+c3kyxS88oa3n0r7bZngld+B5O+tvf1y4g4i5TKI50FI4e2JiIiIKB/KZJENFG7bGx+Wk+PVX7/gsNRjrbpxAN7luqN7r174wDwKnvv2I0AqPGPOH8DtGt1RP9XVQeLJ5Wl/S4nWQlE/x7MXKm3pLUeh4mVQzNwc5slupdBhzkEcP7YFo+skL/BlBU1RMH6plGTUz5/hhUr7BeWFULxMsRTeW3sr1QFzDh7HsS2jkcLbExEREVE+lOkiG4XaoG+3CpCHu+OXNz3WKlw/cAmVe7TSFrwfoneH4oj22od9d+Kq7GicOxiAuj1SHnKRaTJzFDWLr5CNytZF+06d0CmVW8f2drA0ffNUncnMiyL+7Y1Qtm77FN83/tYR7e0skcG3JyIiIqI8KvNFNkzQsu/HsFS8ju+xjr6CA1eqoIe9ifYxc3Ts3QmlYs9j315/qKLO4OB/DdC9hl5LbO13b456datoC3cNngU+hr5Ha8jN66FuFe33rHmGwMccC0JEREREuslCkQ0UaN4Xn1RRIMprH3Yf3o/rNj1gJ81qLNqhNzqX1eCfA7/gwsnDeNqkO2ziFuzQK2M06t0DNYw0CPLxxLXEC48koIKf6yJsv5fBQtm4EXr3qAEjTRB8PK9p3yUVKj+4LtqOjL49EREREeVNWSqyYdwYfbrbQBHjg9UTvVCjRxNt2Ssp3A69PywLzdXdmLj8KZp1t0baNXb8YOvUtp8UqTxi3Hg85g+sDPjtwIaTL6VoEqEn8OOBV7Asn/A70L5f3Fum9gXfMEbj8fMR//YbkPrb/4gDryyR6O2JiIiIKN/KWpGtLUIb9u2BWko1XpRsiZ4NEg4HKYS2fbuhgriNf2SO+MQyrQo0DA//fQGNtuJ9HHA/+XrTmmA8fPhK+2g0ggKfJh4WIi+N7qt3Yr5jJLaNccLGq2HSA5Lwy/hh9I8oPGEqWsSNZJGoHz/Eo9cCmhcPEBCScMWSxOSlu2P1zvlwjNyGMU4bkfztf8DoHwtjwtQWSPD2RERERJSPyeJ2pJH+nTmqq1jQrAWOfOIFz1m1Ek9sjD6N8bU/wa1J13B0lEXyil7zFD8P74ilnsF4+uQVYuNiMhMUK1caFbuvxslvymFD775Yd/U5ngSFxxfXchOYly6FWsN+xrGpDeIi8aLu4Nel07Fghz9KtOuDrg1KIPrff+DpG4OmXy3BlLbl3nx91eVv8dHgn3Dz+WM8j4gvruUm5ihdqgiKtP8WZ1Z8mGKxHHXnVyydvgA7/EugXZ+uaFAiGv/+4wnfmKb4askUtC2Xxc8rRERERJRnZL3I1np56x88LVMfNsl2RNTgmd9VRFSpB8v31s2rxsuAf3DR7zmMKtRBo7rl9bvqh/olAv65CL/nRqhQpxHqlueaIkRERESUmF6KbCIiIiIieodjHIiIiIiI9IxFNhERERGRnrHIJiIiIiLSMxbZRERERER6xiKbiIiIiEjPWGQTEREREekZi2wiIiIiIj1jkU1EREREpGcssomIiIiI9IxFNhERERGRnrHIJiIiIiLSMxbZRERERER6xiKbiIiIiEjPWGQTEREREekZi2wiIiIiIj1jkU1EREREpGcssomIiIiI9IxFNhERERGRnrHIJiIiIiLSMxbZRERERER6xiKbiIiIiEjPWGQTEREREekZi2wiIiIiIj1jkU1EREREpGcssomIiIiI9IxFNhERERGRnrHIJiIiIiLSMxbZRERERER6xiKbiIiIiEjPWGQTEREREekZi2wiIiIiIj1jkU1EREREpGcssomIiIiI9IxFNhERERGRnrHIJiIiIiLSM5nQkv5NRJSyqCDcu/8cUWlmCxkKlKgM6zKm0n2i/Cwaz+7fw7PXaZ9iZcbFUKlqORSS7hPFi0LQvft4nnbShaxACdSwLiPdo4zL3uOURTYRpUvlMx317ZfiukoKpEiJquNP4fZKR+k+UT6muoYFzRpi7sVYKZAyhcVIHLm7AZ0KSAGiOCofTK9vj6VpJ10oq45H7O2V0j3KsGw+TjlchIh0JjMqirIVK6JiircKKGfOSuF9iPA7gB1/B0n3dKQJhvvO/fCLlO5T9pIpUaRMSseJdCtvjgIy6blEqZEZoWjZFNqPdKtQzlx6omEy+FyVzccpe7KJKF1ve7JvWk+Cu+8yNDeWHqD3LuKCM4Z9G4MJm6ajWVEpqBMNQtznY+jqopj109dorJfxCRqEPwnAk1cq7b90IYeySFlYli2c73t41DeXwL7ODFwozZ5sSsHbnuyb1pjk7otluTDpGlauypysHqfsySYiyiU0jw9g3JizaL9sSsonrehHcF85EM36uuJxsqpXjmKOc7DiQ098OXZ/Co9nQuhBfF7fFk26OWH6khX4Yd16bNjogrkD7FDDtg66TliF9Rs3YuOGdVi1ZCL6ONSEba91uK+WXk9EeZLB5aocwiKbiEiPwi664OtFvyNEuq83miAcmjYb9/suwhBLhRSMo0bAnono3bMXeg/+GjOd9+DSoxeITPEapQJWg7/FgH9nY+qBpyn3Pkd64PvxzjgTnP6Z7cXxvbjYUPtc37+xf8s6rF7hjO+/nYZ2ZWIhCjhgnMsaOC9bhmXfr8CPW9zw97q+sLayRrmE3z4R5S3vK1flAiyyiYj0JOLCMvSbeA1tR7RHMSmmL6orP2Kxe1OMH1EDSikWTwHLvs7Yu38f9u74Bl0qpJPWFdYYNr45zi5bn/JEVlMHDO8RjHm9Z+PvkLRObcE4diwao9aMQe2El1Bfe8L9wmsoa7ZEq3KJvxfTMuVRt5o1ONqIKO96b7kqF2CRTUSkB5rAAxjndByOq53RtYy+U2sUzmzeiafteqN9hsY2pqzwB/3QPmg7NnpES5HEirX6Bhv7X8eEkdtwL5WhHZpnR/GXcS8MsErcLR1z2R1eL2SwaOYIm8RnWKiCQmFmbZnkxEtEecf7zVWGjkU2EVFWaR5g65iJuNV7FSbUzYYZbDEX4PZHMJq2tYdeViE3aYrWTUJw8tglxEihxBSoMmwFRkctwIhVN5BSJ5K8UCvMWNAbpROdRdS4534WAZoiaOrYBEl/Eyb2UzHzIz2ceYnIML33XGXYWGQTEWWJBk8PzMT8650w58s62TIUQv3IG+f/q4zatfQ1zb4Q6tSpjAfe5xCY2ogQhRWGzB2A0OXT8fPDFJ5kWhnWFkl+Ws1zuJ+5BpVxQ7R0SP69ystUgZWZdIeI8pwcyVUGjEU2EVFWxFzC6m9+RaVRE9A2mwpI1d27eAgLVK6sr4EWSpQrWwri/i3cTmMPBuNGYzC63mnMX3AcL6VYml574szFKChrOsBR70NmiMjQ5VSuMlTMgkREWRB2wgU/P2iBgf2rIrsWzVCHhiLMuDDM9NhNblKkCIxfhSAkreX05OXR87MOiNy3Brv+Tb8bKebSaXiFyFC+mSOqc+A1Ub6TY7nKQLHIJiLKtBdw23IAwY27oVuSlTT0KjYGKpkCcj1+CbmREgqhSXdprOLtu8FB5o7d+wKQ9jlOjTunPfFAUwR2jo2SjccmonwgB3OVIWKRTUSUWeGncdw9ArXbtEXZbMymcrMiKBT1Cq/0OMFeFR6OKDNzFE2v+928Ldo1EvA+eiztMZGaZzjjcV0aj82B10T5UY7mKgPEIpuIKJOivf6Ae2gp1G1YRaehIhH+B7FonBNGO32GXr1HwvnPJ/G9wxE3sGfuGDg5OWHooGGYtt0X4W9eEU9pZQULWQiCg/V1vVSNJ4+fAWUsUCG9b1xeEg0bVIb6ojvORkixlESehfsFjscmyv00CPZaj8kjhmNIn54YseIMglL6gB1zD0eXL8Qmz2ApkMO5ygAxExIRZYoagVeu47GsGmrXNpJiqdEg5PR8DF18G/ZTf8C6DduwZbw5fvqkPaaeuoB1Y75BQMeFcFk3HZ3MfLFpeA/MPP1uwSqlVX3UKRoAf/90dmQQsYiNmxwUG5POclexuOF/H0XrNIR1umOnjVGzji2MI67h0vXU3zXK50+cC5WhnJ0Dx2MT5WJR55dh/CYlBq9yxaYptvCe1h9T3UKlR98JOzIHQyfPx7e/+EmRnM5VhodFNhFRpqi0J5J7EIUtULFU2qlU82Q/pq4GJv44Ba2lZe/MmnSGYwl/uAwcgBNNF2JSi+IQD/bjB9eLeCEKwcw0wXuaOqC9fQzOe15Ncc3qyNPLMPSzzzCgx1C43jWF6a1NGNJjAD77bCi++zuF7ueYf+Dho0aLDg46rWVrUrECSon/cO9+4un96js7MWlQfwzo+wnaj96LkMJmiD69GAP69UP/kWtxITcubEuUn6n98MPyAPRcPBS1C2nvhgTjpToIly/eT5J7onH+lAdewAyNWtSXYlo5nKsMDYtsIqJMicB//z0HSpZB2qMjouG1wgWaT8fDLuFQZVUwgkM1eB1dG937xQ83UVgOwneuq7He7QBmNUnYbVMMXQZ1Qeixw7iawpnLtNVkbNm2DTt/9UFASChCQ+7D+/BObNu2BVNaJ1+vVuXrht/DPsSnXYpLkbQpy5ZDaVkUAh8+kiLxFFUH4Pvtu7BzzyGcuRmEkNAQPLn+J/bv3o1dG8egcXYsGk5E2SbawxUeVYeh25tdprS568hJPBaFUa1Gkp1aVf44fS4QGuNGSdbEz9lcZWhYZBORQVLHRCEyMvK93aKiVRmbva55hbBIAVmhwiicViZV3cHF6M74oqu5FIgXc+0CroQLmNh1RPtiUlBeFs0/HYuRHa1hIoXeKtrlazgV3Id1f+i0YnUaQnBs3X4UGvU1uui4+aKscGGYygRehoRIkfdFjZiolP9e2XOLQrQqN65hQKQPagT4GaNdvwbxBXWkO3YfDoCmZGf07fw2ScXTPD4DjxsqKGs5wDHxtq85mqsMjUxoSf8mIkqRymc66tsvxU3rSXD3XYbm2d5DGYMLrrOw49r7231AUbYdxk3qikq6Tq5RXcc3zRrgG8U8XPGcgRoZmpSjxn3nNrCd7IX6C33hOcNWp4mT4Z4z0WmaEs6/zYddJq+dRnhMQdspJlh1cgGa6foez9ajU8UvcWfUSdxZ1UoKvgcxF+A6awfeXzNQoGy7cZjUtVK2rXn+lvrmEtjXmYELpUfiyN0N6MQ1DykhlQ+m17fH0pvWmOTui2XZn3STCXcbhurdt0E2+BD8XbuisBSP83J3H1gOPIBiY07gxpo2yZbszLFcpWdZPk7jimwiorTEek8TtZQQyuqThGe0FMzvVDfEYjsjYdRovrgaK8V09kJs615EyJTVxcSzGfmFRonrLn1E+7FHxGO1FMoA9fOTYvKHA8Smmxn7htWPfxTtjJXCdpKnFKGsUvkvFnZGEAqLkeJ4lBQkeivWW0yrpRTQ5ohJOZJ0w8ShwWWFXGEhhh+NkGJvRYkTn1cSCnlx0f+XMCmWVM7kKn3L6nHK4SJERJkhKwRTUxkQFYXXUkhnUd5w94mArFQLtK6fkR6qAqg5ajOWN/wL69yeSjEdaZ7ht7W/ofqSDRhuk7Fp+uL1a8QIGQqZcf1ronwhygNHTz4DSrRD11ZJupFVN+B+7jE0BRqjpUNqXcw5k6sMDYtsIqLMkJdAudKmEKHPkdElYVXXzsA7SIOCjRySXUpVB5zBmXtpvWEh1B7yPeZ/XEa6ryN5KXw4exmG100+uSg94nkwQiCDeYkSUoSI8jLVDU/4aHOUiTZHtSgoBSWaQHd4+Kc8Hjux95+rDA2LbCKiTFHC0soCsuBABEZKIZ2o8eBvd9xUKWHb1A6JpxOF4ffvVuB0hGFNlVE9fowglEFVm9w5w5+IMkZ1/x7+VStgYVsD5kkqxVce7rgco0ClFo6olt2TF3I5FtlERJlijGq1bFBQHYDbt1NbEDoa/6zpCdvixeH4nbRurPouDhy+gFjt6ytVqZxoWSz13W3YEdUDw2oZ0iVSNR7fvoMQWVXUtE1v0x0iygtkpgVRUCaDWZGiiQtFTTD+cPPAK1lR2Dk20mYxSguLbCKiTCpib496snu44pvKUlWqGzi42Q03XwoYmxSADBo8OegML7uJ+KiECs+fPv//soGakDNYMO0yOs/uj/IGlZmj4et7C7IaDnAsx1MGUX5QoEk72BfXIODGdYRLMSAKfq4jMWl/EIRJYzja59CSH7kIMyYRUSYpKrZCy+oqXPLwRAp7lQHKGugxrBNq1u+KD4p44sdZI/HVmVb4bvE8rFw3DK83OWHKD5uxfukEDBr5C6zmrsIgKwO7/hpzGe5eoajcpj1q5u45SESkqxK98e3aMbD1XoDBs12wbfNKzBzxGZxvFkJJmTa11WqJlunsdEsssomIMk9ZHz0+qoHQ07/DK0qKJVIA9cb+iotuk9GsTBnU778EP60aAGtjJSx7rYX32bXoUbUsqrUbj/W/rMGQuH2MDYzqxh/466EVPurVlJeGifINhTZHrcZZvxNY8IElSlVpDSfn7VhUPRi3YpWo3r4jbDgeO10ssomIMk2J+kOHonnwEez6891F1aRMytdF686d4VirdKJNG+TFqqJFpw/RtoklzAwyG8fg4q59uN1oGEY0424pRPlCxB2cdvsT/qEawNQC9Vp1QufW9VHZ7CkOHziL1wWbYOBAaVdIShOLbCKiLFBYD8fsIaY4uukAnuS1HblDf8eG3S/RbdwQ9loR5QeaQGz7tAXaftQJ/Zb7xk/WloSfWY6Vp6JgM2IBRtdkQtAFi2wioiwxQ+tZC9HusjNW+qQ4ZiSXUuH6uqX4vdZsLOpZmicLovwg1g9el16ikGU7DOxm8//eak3wCcz8Yj2eNZ+DrYvaoagUp7QxbxIRZZG8dA8sXlwLblOW459oKZjLqW+6YOJWc8xwHg5Dm4tJRNnEqA7sW3fAhF27MblJ/OohkXcPYeono+HRxBnHDk2HXeE3YdIBi2wioiyTo1L/dXBp+Qe+mncaIVI014q4iGVjd8J6+RZ8bsuRl0T5hrwM+i+bjjK7xmPISCc4jXLC2CV/o9yMk/DcMhpNi7FszAj+toiI9KIoWi74GePDl2D02uvItR3a6gDsGj8Ldz7bihVdOEyEKL+Rl2qBMau2YuvGDdiwfgNcN63E150tE03aJt0wfxIR6YuiIrqv2YsFLQsmmjCUq6hlqP31DmwYZMMl+4iIsoBFNhGRXpnBpk4VGN6K1zoyrow6NYvz5EBElEXMo0REREREesYim4iIiIhIz1hkExHlMhF+B7Dj7yDpno40wXDfuR9+kdJ9IqJslt9zFYtsIqJcJOKCM4bNvQnrBqWliI7kxVCngi9mfLYcFyKkWJZpEP7kHu7cuoVbOt3u4N6TcO2riCivM6xclTNYZBMR5RKaxwcwbsxZtF82Bc0SbrmmeYELWyahb+fO6PZRJ7Rt2xF9J/yI04EJ1ziRo5jjHKz40BNfjt2Px/qodEMP4vP6tmjSzQnTl6zAD+vWY8NGF8wdYIcatnXQdcIqrN+4ERs3rMOqJRPRx6EmbHutw3219HoiypMMLlflEBbZRER6FHbRBV8v+l3/G9JognBo2mzc77sIQywTbsH4Eu7zRmDlqx5Yc/g43H79DSd2TYW110y0b9YHrrcSnrwUsBr8LQb8OxtTDzxNuUc50gPfj3fGmeD0z2wvju/FxYba5/r+jf1b1mH1Cmd8/+00tCsTC1HAAeNc1sB52TIs+34Fftzihr/X9YW1lTXKcQdJorzrfeWqXIBFNhGRnkRcWIZ+E6+h7Yj2KCbF9EV15Ucsdm+K8SNqIOEejOq7m7Hwj3Lo+0ljlJYWtlaUaYu5ziNh/fgwps3ZHx98S2GNYeOb4+yy9bie0mLepg4Y3iMY83rPxt8haZ3agnHsWDRGrRmD2gl3qXjtCfcLr6Gs2RKtyiU+xZiWKY+61ay5/jZRHvbeclUuwCKbiEgPNIEHMM7pOBxXO6NrGX2n1iic2bwTT9v1RvuEl161Yq9fwZXz6zBwwi94KcXiFGjYAo2LACFe7lLkncIf9EP7oO3Y6JHyvpTFWn2Djf2vY8LIbbiXytAOzbOj+Mu4FwZYJe6WjrnsDq8XMlg0c4RNkh3ZVUGhMLO2THTiJaK85P3mKkPHIpuIKKs0D7B1zETc6r0KE+pmw+bDMRfg9kcwmra1h6kUesvYfigmDx+GicMcUViKvaGKQpRKQGacQr+xSVO0bhKCk8cuIUYKJaZAlWErMDpqAUasupHi7pXyQq0wY0FvlE50FlHjnvtZBGiKoKljk2TbMJvYT8XMj5KceYko73jvucqwscgmIsoSDZ4emIn51zthzpd1smUohPqRN87/Vxm1ayXfR1JeohUmbdiEuV0raUvjd8L+OolzEUpYd+shRRIqhDp1KuOB9zkEpjYiRGGFIXMHIHT5dPz8MIUnmVaGtUWSn1bzHO5nrkFl3BAtHVL4XstUgZWZdIeI8pwcyVUGjEU2EVFWxFzC6m9+RaVRE9A2mwpI1d27eAgLVK6s40CLqItYvnAPXtiOwopp9lIwISXKlS0Fcf8WbsdKoRQYNxqD0fVOY/6C44ku76bqtSfOXIyCsqYDHPU+ZIaIDF1O5SpDxSxIRJQFYSdc8PODFhjYv2qi3hl9UoeGIsy4MMx06SbXBOG3yUOwOrwvNv/qjM6lUk7zJkWKwPhVCELSWk5PXh49P+uAyH1rsOvf9LuRYi6dhleIDOWbOaI6B14T5Ts5lqsMFItsIqJMewG3LQcQ3LgbuiVZSUOvYmOgkikgT/dLhMF76QBM9u+FfX9uRL8qqZ/p5EZKKIQm3aWxirfvBgeZO3bvC0Da5zg17pz2xANNEdg5Nko2HpuI8oEczFWGiEU2EVFmhZ/GcfcI1G7TFmWzMZvKzYqgUNQrvEpzgn0ELq8cjKm3PsPeI3PR5s1wjUhcdvst/uEkVOHhiDIzR9H0ut/N26JdIwHvo8fSHhOpeYYzHtel8dgceE2UH+VorjJALLKJiDIp2usPuIeWQt2GVXQaKhLhfxCLxjlhtNNn6NV7JJz/fBLfOxxxA3vmjoGTkxOGDhqGadt9Ef7mFfGUVlawkIUgODi1vuQoXHMZg28Ch2OH62ewfduNHHMBO/f4SncSUuPJ42dAGQtUSO8bl5dEwwaVob7ojrNpbXEceRbuFzgemyj30yDYaz0mjxiOIX16YsSKMwhK6QN2zD0cXb4QmzyDpUAO5yoDxExIRJQpagReuY7HsmqoXdtIiqVGg5DT8zF08W3YT/0B6zZsw5bx5vjpk/aYeuoC1o35BgEdF8Jl3XR0MvPFpuE9MPP0uwWrlFb1UadoAPz9U1pMLwY3t3yGTxbfguLZfsweOQzDhmlvQz9D/+7j8KuimvS8hGJxw/8+itZpCOt0x04bo2YdWxhHXMOl66kvohXl8yfOhcpQzs6B47GJcrGo88swfpMSg1e5YtMUW3hP64+pbqHSo++EHZmDoZPn49tf/KRITucqw8Mim4jSp9FAIwAR918pRCrtieQeRGELVExlws5bmif7MXU1MPHHKWgtLXtn1qQzHEv4w2XgAJxouhCTWhSHeLAfP7hexAtRCGamCd7T1AHt7WNw3vNqsjWrY87NRa/R+3D3Xy/s27oFW7ZIt60/Y/cxPxS1sZWemUDMP/DwUaNFB4dka9mmxKRiBZQS/+He/cTT+9V3dmLSoP4Y0PcTtB+9FyGFzRB9ejEG9OuH/iPX4kJuXNj2vZGOKaHmMUUp0LaP+KQbl37fH7UfflgegJ6Lh6J2Ie3dkGC8VAfh8sX7SXJPNM6f8sALmKFRi/pSTCuHc5X+Ze04ZZFNROnSRLzA67hE8/oFwlkRSCLw33/PgZJlkPboiGh4rXCB5tPxsEs4VFkVjOBQDV5H10b3fvHDTRSWg/Cd62qsdzuAWU0SdtsUQ5dBXRB67DCuJjlzGTdfgqtRGu1JQKRwi4HPzBrSM99R+brh97AP8WmX4lIkbcqy5VBaFoXAh4+kSDxF1QH4fvsu7NxzCGduBiEkNARPrv+J/bt3Y9fGMWisywoD+ZX2mArXHlOIDsUrHlOUlCYCL+KTLl68x6Qb7eEKj6rD0O3NLlPa3HXkJB6LwqhWI8lOrSp/nD4XCI1xoyRr4udsrtK7LB6nLLKJKF1ys5IopM0W8kIlUeQ9ZQ11TBQiIyPf2y0qWpWxngrNK4RFCsgKFUbhtH4nqju4GN0ZX3Q1lwLxYq5dwBVt9jax64j2xaSgvCyafzoWIztaw0QKvVW0y9dwKrgP6/7QacXqNITg2Lr9KDTqa3TRcfNFWeHCMJUJvAwJkSLvixoxUSn/vbLnFoVo1XsqaKRjSWZSAuY8E1NScjOUjE+6KPm+kq72eAvwM0a7fg3iC+pId+w+HABNyc7o2/ltkoqneXwGHjdUUNZygGPibV9zNFfpXRaPU5n2E0RcjU5ElCqVz3TUt1+Km9aT4O67DM2zvYcyBhdcZ2HHtfe3+4CibDuMm9QVlXSdXKO6jm+aNcA3inm44jkDNTI0KUeN+85tYDvZC/UX+sJzhq1OEyfDPWei0zQlnH+bD7tMXjuN8JiCtlNMsOrkAjTT9T2erUenil/izqiTuLOqlRR8D2IuwHXWDry/ZqBA2XbjMCnJjnTZQX1zCezrzMCF0iNx5O4GdOKah5SQygfT69tj6U1rTHL3xbLsT7rJhLsNQ/Xu2yAbfAj+rl0TbYX+cncfWA48gGJjTuDGmjbJluzMsVylZ1k+TuOKbCKitMR6TxO1lBDK6pOEZ7QUzO9UN8RiOyNh1Gi+uBorxXT2QmzrXkTIlNXFxLMZ+YVGiesufUT7sUfEY7UUygD185Ni8ocDxKabGfuG1Y9/FO2MlcJ2kqcUoaxS+S8WdkYQCouR4niUFCR6K9ZbTKulFNDmiEk5knTDxKHBZYVcYSGGH42QYm9FiROfVxIKeXHR/5cwKZZUzuQqfcvqcfq+rkEQEeUtskIwNZUBUVF4LYV0FuUNd58IyEq1QOv6GemhKoCaozZjecO/sM7tqRTTkeYZflv7G6ov2YDhNhmbpi9ev0aMkKGQGde/JsoXojxw9OQzoEQ7dG2VpBtZdQPu5x5DU6AxWjqk1sWcM7nK0LDIJiLKDHkJlCttChH6HKkuCZsK1bUz8A7SoGAjh2SXUtUBZ3DmXlpvWAi1h3yP+R+Xke7rSF4KH85ehuF1E05S0o14HowQyGBeooQUIaK8THXDEz7aHGWizVEtCkpBiSbQHR7+KY/HTuz95ypDwyKbiChTlLC0soAsOBCBkVJIJ2o8+NsdN1VK2Da1Q+LpRGH4/bsVOB1hWFNlVI8fIwhlUNUmh2b4E9F7pbp/D/+qFbCwrZFswt8rD3dcjlGgUgtHVMvuyQu5HItsIqJMMUa1WjYoqA7A7dupLQgdjX/W9IRt8eJw/E5aN1Z9FwcOX0Cs9vWVqlROtCyW+u427IjqgWG1DOkSqRqPb99BiKwqatqmt+kOEeUFMtOCKCiTwaxI0cSFoiYYf7h54JWsKOwcG2mzGKWFRTYRUSYVsbdHPdk9XPFNZakq1Q0c3OyGmy8FjE0KQAYNnhx0hpfdRHxUQoXnT5//f9lATcgZLJh2GZ1n90d5g8rM0fD1vQVZDQc4luMpgyg/KNCkHeyLaxBw4zrCpRgQBT/XkZi0PwjCpDEc7XNoyY9chBmTiCiTFBVboWV1FS55eCJCiiWirIEewzqhZv2u+KCIJ36cNRJfnWmF7xbPw8p1w/B6kxOm/LAZ65dOwKCRv8Bq7ioMsjKw668xl+HuFYrKbdqjZu6eg0REuirRG9+uHQNb7wUYPNsF2zavxMwRn8H5ZiGUlGlTW62WaJnOTrfEIpuIKPOU9dHjoxoIPf07vKKkWCIFUG/sr7joNhnNypRB/f5L8NOqAbA2VsKy11p4n12LHlXLolq78Vj/yxoMidvH2MCobvyBvx5a4aNeTXlpmCjfUGhz1Gqc9TuBBR9YolSV1nBy3o5F1YNxK1aJ6u07wobjsdPFIpuIKNOUqD90KJoHH8GuP99dVE3KpHxdtO7cGY61SifatEFerCpadPoQbZtYwswgs3EMLu7ah9uNhmFEM+6WQpQvRNzBabc/4R+qAUwtUK9VJ3RuXR+VzZ7i8IGzeF2wCQYOlHaFpDSxyCYiygKF9XDMHmKKo5sO4Ml72pH7vQn9HRt2v0S3cUPYa0WUH2gCse3TFmj7USf0W+4bP1lbEn5mOVaeioLNiAUYXZMJQRcssomIssQMrWctRLvLzljpk+KYkVxKhevrluL3WrOxqGdpniwol4mB59JBmP1biHSfdBLrB69LL1HIsh0GdrP5f2+1JvgEZn6xHs+az8HWRe1QVIpT2pg3iVKgCdqDEfWqwbpKFVStZgMbm/hbNWtLVK7eAy53k2wWEuOFeQ6VUaFCJVhaWaPam+drX2/dAF8cTmXlCcoz5KV7YPHiWnCbshz/REvBXE590wUTt5pjhvNwGNpcTKL0yVEg4hpcVu5BQAY3i8rXjOrAvnUHTNi1G5ObxK8eEnn3EKZ+MhoeTZxx7NB02BV+EyYdyOL2Vpf+TURJaML9sXXYB3Da+whqeQm0W3AI2yc7oGwKM8A04VexuFMTzPEpgoa9v8TELz5F56ZWMM8DA9dUPtNR334pblpPgrvvMjTnDLgUvMSZmR9jtmY+Di5plWSTmVwm4iKWdh+Lf8cfwpou7MXODuqbS2BfZwYulB6JI3c3oBOHvOtIhbvH1mHP+ReISad8ESHnsGWdD0qP24Wj33VCmdzUkFU+mF7fHktvWmOSuy+Wvcekq3nmCZeFG+ATaQxj7e9MrTZFrZ5f4YvOlonmlOQHWT1OmTuJ0iAvbIvPZo5APWOZNmO/hqpgWZRKLdeF3cKd8PoYu8cbnjvmoH+LvFFgk66KouWCnzE+fAlGr72OXNuhrQ7ArvGzcOezrVjBApsMjgqhgXdx99493EvzdhMexzzwnxqIffUSkexO1Jm8VAuMWbUVWzduwIb1G+C6aSW+zocFtj6wJ5soPZqHcPmwDsb8HgZlzSlwv7wUzZIU2poQd8zrvwjqqTvxTZsSea4wUT9ww7I1p/CseBt8OfVjDh9IUxhuXX0GizpVYHgL8ukg5gGu3jFDrZrFWWBnI03QSaz87ggeFbLDiDn9UYPHlB5p8O/e4Wg36gJarT2INf2qwkR6JNdQP4DbsjU49aw42nw5FR8z6eaIrB6nzKFE6ZFXQr9RH6OsQiD25nas/y3JGOuIy1g5dD5CvtyaJwvsOOKpJ7avWoXV2zzwhOMb02EGm9xaYMcxrow6LLCznQg5j19Wr8Iq17/wIOESDpR1mkc4eTgAH2w6BpfcWGDHEU/huV3bPlZvgweTbo7J6nHKPEqkA/MPP8fAakpAHYiDLnvw6O1SbTE34TpiIq723YQVXcvxgCIiymnyihi6/S+s7VER7P+lnMSagEgXBewwcnhzFJQJvDq1Ea7XtR9p1Q+x74vR+KP1D3Dpb8WF+YmIiOj/WGQT6USBqp85oXNxOUTMZfy07iAOTx2Bn22+heuompwQQkSUnTTB8Fo/GSOGD0GfniOw4kwQUtr7KebeUSxfuAmewXltZyjKjVhkE+lIXro7RveupC231bi/aRSWGs3AlolNwCVDiYiyUxTOLxuPTcrBWOW6CVNsvTGt/1S4hUoP/18YjswZisnzv8UvfhzoTjmPq4sQZYDqyjzYNV2AS7EF0drZFycnWOt1zF/UtT34fsdFvFIJZOXAlMlNUKnjaIxpW14vn6S5TjaRfnGdbN2p/b7HoDXWWPVjd5SWR+PE59XQeXNxzPC+gAUNEgzUi/4TX1TvAJdXvbDrwW70MZPiaYm6hj3f78DFVypkqRqSyWFSqSNGj2mL8vpJujm2Tja9w3Wyid6baNw574cwY6X20+lrnN3siosx0kP6oopCZHg4wvVxex2bpUKdiCjnRcPD1QNVh3XTFthxd71w5ORjiMLVUMMy8UwYlf9pnAvUwLhRSzjovLyPClGRKeTPTN1eI5ZJlxKK68kmovSoRMCe4aJNHxdxdns/oU32AooKYrjbK+nxvC3We5qopYRQVp8kPKOlIBFlmsp/sbAzglBYjBTHo6QgJafyF2unrRbXYuPvRvzxuaiskIvSA/aKkPiQRC0ermkrTGRGotE8XyE9PfeK9RbTaikFlNXFJCbdHJPV45Q92UTp0uDJsYkYvrMGlm0ehRY9R6O/dfxyfvvX/4JAzq8hIsoeiuoYvWQstB/ytcJxatev+A/l0LV/J5i/ecJbYTjrfgkx8gpo7mjD1Z7IILDIJkqTBiHu8zB0TVHM2TIBjeIuQZrYw2lIIxSQafDyxEZs9edGAURE2S78FPYffwKU7YSebZNMOY8+j9PeYUDRZnBswgHuZBhYZBOlIeLCcgyeF4IvtsyFY7G3h4sCtkOc0KGoHCL6IrZuPIso6ZEs00Qj9MkjPPr3X/ybhdujwGcI5+R6IspDojyO4uQzoES7rmhlKgUlqhvuOPdYgwKNW8IhyWNp0yA69AkePUo5l+p8exSIZ0y6lASLbKJURN/YgKFfX0GfTSvQtWziQ0VevjecepbXltsq3N3lArcX0gNZFLJ3GGpaWcGqShVUycLNyrIKWs33gb7nZRIR5QwVbnj6IEhjgkYOLVBQisbTINDdA/4qJWo5OMZPkNRVyF4Mq6nNuVYp51Kdb1aWqNJqPnyYdCkBFtlEKVDd34VRTsfR8oeNGFQlpdF9Zugw6lPUNJJBE+SGDbsCUtwYIaOK9d2BwNcxiImNRWwWbjExYbj4TVNw0SciyhtUuH/vX6gVFrCtYZ6keHkFD/fLiFFUQgvHahlbVrVYX+wIfK3NmSnnUp1vMTEIu/gNmjLpUgIssomSiLq5AyN7r0OFpVsxtq6JFE3OuOEIDHcwhUxE4PSmLbjCK4VERNlEBtOCBSGTmaFI0cSliyb4D7h5vIKsqB0cG7HKJcPBIptIEvPMF4e+GwIH+8HYHtYQHRoUlR5JhVqJshVKag8igdirm7Bo5wOwziYiyg4F0KSdPYprAnDjergU04ryg+vISdgfJGDS2BH2GRqPTZS9WGRTvqf6Zxk625RHORtHDFl8EDdfG0Fxfy261hmOfSmOtdbg6e5hsK1QByMOhaJw0aIoWjgCp8Y3gVXV6qg3cDMCuOAIEZFelej9LdaOsYX3gsGY7bINm1fOxIjPnHGzUEnIoEStli1RilUNGRA2R8r3lPUn4/itQASHhCI09CXCIl4jKiYGr+66oldx6UmJyFGm32b4B2mf+yruNfG3kJAg/HvnJq7sGAZLfe61bgg0GmgEIOL+K4WIKCukY0qoeUzpSmGJXqvPwu/EAnxgWQpVWjvBefsiVA++hVhldbTvaJOx8dgGTds+4pNuXPqlHJO145RFNhGlS/3sPl5oM4wm5D6espfecGn+xeGpXdDcoQ++OxsqBckQaYLvI0h7TImwBwjkMZWuiDun4fanP0K1vzNTi3po1akzWtevDLOnh3Hg7GsUbDIQAxvkoS1o1M9wPz7p4n4uTbqafw9japfmcOjzHXJrOsrqccoim4jSpShjjZIK7X9LWKNcXuulz0M0D/fCecUxeJ3dh0WrfkekFCfDI9ceS2W1x5K8SBVU4DGVJk3gNnzaoi0+6tQPy30TznwJx5nlK3EqygYjFoxGzbz0e1SUgXV80oV1rky6Gjzc64wVx7xwdt8irPo9d2ajrB6nLLKJiPIIefkOGNCjNsqUrIlePZsj9bVxiHKPWD8vXHpZCJbtBqKbzdveag2CT8zEF+ufofmcrVjULp2J6vSeyVG+wwD0qF0GJWv2Qs/m+TMbscgmIsorjGvj891X8eTZNbj2rcQET3mCUR17tO4wAbt2T0aTN6uHROLuoan4ZLQHmjgfw6HpdkiyyToZAOPan2P31Sd4ds0VfSvlz2zEHExEREQGS16mP5ZNL4Nd44dgpJMTRjmNxZK/y2HGSU9sGd0UxVjJkIFi0yQiIiIDJkepFmOwautWbNywAes3uGLTyq/R2bKA9DiRYWKRTURERESkZyyyiYiIiIj0jEU2EREREZGescgmIiIiItIzFtlERHkFd3wkIgORF3Z8zCoW2UREeQR3fCQiw5A3dnzMKhbZRER5BHd8JCLDwB0f47DIJiLKK7jjIxEZCO74yCKbiIiIiEjvWGQTEREREekZi2wiIiIiIj1jkU1E6ZKZ10TnQYMwsEttmCukIBFlmszUBh8MHIRBnzRAKaUUJHpLZo6anbXtY2AX1GbSzTFZPU5ZZBNRukSoH45v344dR68hVC0FiSjTROQtnNyxHdsPXcYzlRQkekuEwu+4tn3sOIprTLo5JqvHKYtsIiIiIiI9Y5FNRJRXcMdHIjIQ3PGRRTYRUZ7BHR+JyDBwx8c4LLKJiPII7vhIRIaBOz7GYZFNRJRXcMdHIjIQ3PGRRTYRERERkd6xyCYiIiIi0jMW2UREREREesYim4iIiIhIz1hkExERERHpGYtsIiIiIiI9Y5FNRERERKRnLLKJiIiIiPSMRTYRERERkZ6xyCYiMnARfgew4+8g6Z6eaILhvnM//CKl+0REWcRclRiLbCIiAxZxwRnD5t6EdYPSUkRP5MVQp4IvZny2HBcipFiWaRD+5B7u3LqFWzrd7uDek3Dtq4got8tduer9YJFNRGSgNI8PYNyYs2i/bAqaFZWCeiNHMcc5WPGhJ74cux+P9VHphh7E5/Vt0aSbE6YvWYEf1q3Hho0umDvADjVs66DrhFVYv3EjNm5Yh1VLJqKPQ03Y9lqH+2rp9USUK+W6XPWesMgmIsqCsIsu+HrR7wiR7uuNJgiHps3G/b6LMMRSIQX1TQGrwd9iwL+zMfXA05R7lCM98P14Z5wJTv/M9uL4XlxsqH2u79/Yv2UdVq9wxvffTkO7MrEQBRwwzmUNnJctw7LvV+DHLW74e11fWFtZo1x2/XhElP0MJVcZIBbZRESZFHFhGfpNvIa2I9qjmBTTF9WVH7HYvSnGj6gBpRTLFgprDBvfHGeXrcd1lRRLyNQBw3sEY17v2fg7JK1TWzCOHYvGqDVjULuAFIrz2hPuF15DWbMlWpVLfMoxLVMedatZw1i6T0S5j8HkKgPEIpuIKBM0gQcwzuk4HFc7o2sZfafSKJzZvBNP2/VGe71fek2u8Af90D5oOzZ6REuRxIq1+gYb+1/HhJHbcC+VoR2aZ0fxl3EvDLBK3JMVc9kdXi9ksGjmCJskZ2BVUCjMrC2z98RMRNnIsHKVoWGRTUSUUZoH2DpmIm71XoUJdRN22+pJzAW4/RGMpm3tYSqF3tHgiedmLJg+Fy5/PkRMXCj8Fv7cvgrzZszFiu1/4274myci8v5f2LJkBiZNnos1v95AWHw4OZOmaN0kBCePXYp/v2QUqDJsBUZHLcCIVTeQUieSvFArzFjQG6UTnVXUuOd+FgGaImjq2ARJf1Mm9lMx86P3cGYmouxhcLnKsLDIJiLKEA2eHpiJ+dc7Yc6XdbJlqIP6kTfO/1cZtWsVkiLvqO9uwsIDRTHgY4GNn3yMub9swcTxW/DA6hNMnDkYRQ4MgOPQn3BuzxSMXXsH1n2nYP7Y6jj3ZWv0W39PW/ampBDq1KmMB97nEJjaiBCFFYbMHYDQ5dPx88MUnmRaGdYWSX4bmudwP3MNKuOGaOmQ/GeRl6kCKzPpDhHlOgaZqwwIi2wiooyIuYTV3/yKSqMmoG02FYiqu3fxEBaoXDnpQAoVLm3zRsVhn2iLUyPIo3yxbuVD9F61BEPtK8OsUCXY1S+PZ25TMPFie3z37Ug4VjFHIYumqF8xBKf/8ELKF1mVKFe2FMT9W7gdK4VSYNxoDEbXO435C47jpRRL02tPnLkYBWVNBzjqfUgNEeU0Q81VhoJZj4goA8JOuODnBy0wsH9VZNc8enVoKMKMC8MsWTf5a4Rbtccn1RV44e0Df9TA5yumollh6WFEwd//PkTZjzF7dnuUeJvhY2/i5n2gjEX5VL9nkyJFYPwqBCFpLacnL4+en3VA5L412PVv+t1IMZdOwytEhvLNHFGdA6+J8hyDzVUGgkU2EZHOXsBtywEEN+6GbklWytCr2BioZArIk30JM7QZ0g/VFRE4e9oH0ZU/wIcNTKTHtGIu4oxPGEq2/QitEvSyx5w/iTPPzdG8deNk46LfkhspoRCadJfGKt6+Gxxk7ti9LyCVy7lvqXHntCceaIrAzrFRql+XiHIxA85VhoBFNhGRrsJP47h7BGq3aYuy2Zg95WZFUCjqFV6lNoE+5jLcvUJg1sQBDRP0IKlvu8PzoREaNG+Kd6ezGPgcPIaAYh3Qvd3/u5GSUYWHI8rMHEXT6543b4t2jQS8jx5Le0yk5hnOeFyXxmNz4DVRXmTQucoAsMgmItJRtNcfcA8thboNq+g2VCTCHwcXjYPTaCd81qs3Rjr/iSdvun8jcGPPXIxxcoLT0EEYNm07fKVZ9nGUVlawkIUgODjlvmL1fQ+cu69Eo5YtEszo1+CZx1n4oTYcWpZ4l9wjT2PHgfso020AOhVV4+4aJ8z2SDovX40nj5/FXaNFhfR+MHlJNGxQGeqL7jib1hbHkWfhfoHjsYkMnwbBXusxecRwDOnTEyNWnEFQSh+gY+7h6PKF2OQZLAUMPFcZAGY+IiKdqBF45Toey6qhdm0jKZY6TchpzB+6GLftp+KHdRuwbct4mP/0CdpPPYUL68bgm4COWOiyDtM7mcF303D0mHlaemXcias+6hQNgL9/yjsuvPDwwFXtCcqxVZkESTwSHqcvINaqJVpXeXf2UQd448LjYmjbrTUKhZ+Fq3dFfNw06QDKWNzwv4+idRrCOt2x08aoWccWxhHXcOl66otoRfn8iXOhMpSzc+B4bCIDFnV+GcZvUmLwKldsmmIL72n9MdUtVHr0nbAjczB08nx8+4ufFDH0XJXzWGQTEelEpT2R3IMobIGKpdJJnZon2D91NTDxR0xpbRG/zJ9ZE3R2LAF/l4EYcKIpFk5qgeLiAfb/4IqLLwQKmSVYZdbUAe3tY3De82oKa1JH4/qVG1BXa4sPqiboylHdxdUb4Sjb+gPUT3BeUlTpgI8aF8S931di2rgdKPfV12ic9LwV8w88fNRo0cEhhbVukzOpWAGlxH+4dz/x9H71nZ2YNKg/BvTVfpgYvRchhc0QfXoxBvTrh/4j1+JCbljYlig/Ufvhh+UB6Ll4KGoX0t4NCcZLdRAuX7yfJPdE4/wpD7yAGRq1qC/FtAw8V+U4QUSUjljvaaKWEkJZfZLwjJaC+U6w2NCpgFDafC080vkdRJ2dItoOPyhCpPvxwsUv/cyFXG4uum97LsXU4rHnNrF6w2/izmspJAk9NERUajBLXIqVAgmoQx+KB8+TPxD2KEA8jZLuJBT7Qty/7i8eR0j3k4g9P0PUqzhYHAqVAulQ+S0UTY2MRPOlN6UIZZTKf7GwM4JQWIwUx1P6m1H+FustptVSCiiri0nZmHSj/v5afDzLR8Rnkyjx9zhroZQXE712vngT+b/Yf8ScBkZCZvKB+OGRWgrGM+RclVVZPU7Zk01EBkEdE4XIyMj3douKVmVsdrrmFcIiBWSFCqNwmplThTsXo9H5i64wlyJvxFzDhSvhECZ26Ni+mBSUo2zzTzF2ZEdYJ5h4H6dol6/hVHAf1v2RfEVqedGKqFQi+bXSwuUro3RKU/KVxWBZszrKptj1E4Jj6/aj0Kiv0UXHzRdlhQvDVCbwMiREirwvasREpfz3zJ5bFKJVuWENA6LMUCPAzxjt+jXAm2wS6Y7dhwOgKdkZfTu/zVHxNI/PwOOGCspaDnBMvK2rQeeqnCaLq7SlfxMRpUjlMx317ZfipvUkuPsuQ/Okl/CyLAYXXGdhx7X3t7uAomw7jJvUFZV0nTyjuo5vmjXAN4p5uOI5AzV0fZ1Efd8ZbWwnw6v+QvhqX2+rw+vDPWei0zQlnH+bD7tsujYa4TEFbaeYYNXJBWim69d4th6dKn6JO6NO4s6qVlLwPYi5ANdZO/D+mokCZduNw6SulfS+Jrr65hLY15mBC6VH4sjdDejENQ4pIZUPpte3x9Kb1pjk7otl+k+6yYS7DUP17tsgG3wI/q5dkXB9j5e7+8By4AEUG3MCN9a0Sba8nsHmqizK8nH6pj+biCgNHC6ipbohFtsZCaNG88XVFC6LpufFtu6iiEwpqk88K3T/FUaJ6y59RPuxR8TjxFdo9UL9/KSY/OEAselmxn4g9eMfRTtjpbCd5ClFKKM4XITS9J6Gi7wTJg4NLivkCgsx/GjSsRpR4sTnlYRCXlz0/yVMiiVlmLkqqzhchIjofZAVgqmpDIiKwmsppLsoeLv7IEJWCi1a14+fCKmTAqg5ajOWN/wL69yeSjE90TzDb2t/Q/UlGzDcJmPT9MXr14gRMhQy4/rXRHlClAeOnnwGlGiHrq2SdBOrbsD93GNoCjRGS4fUupANM1flNBbZRES6kJdAudKmEKHPkcqSsKlTXcMZ7yBoCjaCQ9JrqeoAnDlzD6m/ZSHUHvI95n9cRrqvJ/JS+HD2MgyvW0gK6E48D0YIZDAvUUKKEFFuprrhCZ8gDUwaOaBFQSko0QS6w8M/5fHYiRlersppLLKJiHSihKWVBWTBgQiMlEI6Uj/4G+43tScp26awSzyfCGG/f4cVpyOQmybHqB4/RhDKoKpNcSlCRLmZ6v49/KtWwMK2BsyTVIavPNxxOUaBSi0cUU3fkxPyOBbZREQ6MUa1WjYoqA7A7dupL/gc/c8a9LQtjuKO3+Hqm4Vj1bh74DAuxGrfoVIVVE54tVN9F9t2RKHHsFrxs/tzBTUe376DEFlV1LRNf1MeIjJ8MtOCKCiTwaxI0cSFoSYYf7h54JWsKOwcG2VgqBvFYZFNRKSjIvb2qCe7hyu+yZeqiqfCjYOb4XbzJYSxCQrItOeoJwfh7GWHiR+VgOr5Uzx/uyKcJgRnFkzD5c6z0b98bkrF0fD1vQVZDQc4luMphCgvKNCkHeyLaxBw4zrCpVjcXBI/15GYtD8IwqQxHO3f05IeeQgzJBGRjhQVW6FldRUueXgiQoolpkSNHsPQqWZ9dP2gCDx/nIWRX51Bq+8WY97KdRj2ehOcpvyAzeuXYsKgkfjFai5WDbLS+/Jw2SrmMty9QlG5TXvUzF1zkIgoNSV649u1Y2DrvQCDZ7tg2+aVmDniMzjfLISSMm1mq9USLdPb6ZaS4W+MiEhXyvro8VENhJ7+HV5RUiyJAvXG4teLbpjcrAzK1O+PJT+twgBrYygte2Gt91ms7VEVZau1w/j1v2DNkNrIbVN5VDf+wF8PrfBRr6a8dEyUZyhg2Ws1zvqdwIIPLFGqSms4OW/HourBuBWrRPX2HWHD8dgZxiKbiEhnStQfOhTNg49g15/vLqomY1IedVt3RmfHWol3NZMXQ9UWnfBh2yawNMuN6TcGF3ftw+1GwzCiGXdPIcoTIu7gtNuf8A/VAKYWqNeqEzq3ro/KZk9x+MBZvC7YBAMHSrtCUoawyCYiygCF9XDMHmKKo5sO4El+23E79Hds2P0S3cYNYa8WUV6gCcS2T1ug7Ued0G+5L97M1ZaEn1mOlaeiYDNiAUbX5AGfGSyyiYgyxAytZy1Eu8vOWOmTypiRPEmF6+uW4vdas7GoZ2mePIjyglg/eF16iUKW7TCwm83/e6s1wScw84v1eNZ8DrYuaoeiUpwyhnmSiCiD5KV7YPHiWnCbshz/REvBPE590wUTt5pjhvNwWLFTiyhvMKoD+9YdMGHXbkxuEr96SOTdQ5j6yWh4NHHGsUPTYVf4TZgygUU2EVGGyVGp/zq4tPwDX807jRApmmdFXMSysTthvXwLPrflyEyiPENeBv2XTUeZXeMxZKQTnEY5YeySv1Fuxkl4bhmNpsVYJmYFf3tERJlSFC0X/Izx4Usweu115NkObXUAdo2fhTufbcWKLhwmQpTXyEu1wJhVW7F14wZsWL8BrptW4uvOluDU5qxjviQiyixFRXRfsxcLWhZMNGEoT1HLUPvrHdgwyIZL9hERZQCLbCKiLDGDTZ0quW69a50ZV0admsV5siAiyiDmTSIiIiIiPZMJLenfREQpUvlMR337pfAzskDtOhVgKpMeSEQBi74/Yv+E+tJ9onxMfQ+uwz/DRv9UBhLFPIHflQeILDcSR+5uQCcOgKWEVD6YXt8eS/2MYFG7DiqknHShsOiLs/snSPcow7L5OGWRTUTpeltkX09z4LESVcefwu2VjtJ9onxMdQ0LmjXE3IuxUiBlCgsW2ZSCt0V22kkXyqrjEXt7pXSPMiybj1MW2USUvpe3cNbrHsLSzBYyFLJsipa2xaT7RPlZOO6dO4dbL9XS/ZTJClZE45a1UIKDNymRl7h11gv30k66kBWyRMeWttI9yrjsPU5ZZBMRERER6Rk/OxMRERER6RmLbCIiIiIiPWORTURERESkZyyyiYiIiIj0jEU2EREREZGescgmIiIiItIzFtlERERERHrGIpuIiIiISM9YZBMRERER6RmLbCIiIiIiPWORTURERESkZyyyiYiIiIj0jEU2EREREZGescgmIiIiItIzFtlERERERHrGIpuIiIiISM9YZBMRERER6RmLbCIiIiIiPWORTURERESkZyyyiYiIiIj0jEU2EREREZFeAf8DZcfGWQCgh90AAAAASUVORK5CYII=)"
      ],
      "metadata": {
        "id": "YacX8POMfxYI"
      }
    },
    {
      "cell_type": "code",
      "source": [
        "# find the optimal parameters using Gradient Descent\n",
        "def gradientDescentMulti(X, y, theta, alpha, iterations):\n",
        "  for _ in range(iterations):\n",
        "    temp = np.dot(X, theta) - y\n",
        "    temp = np.dot(X.T, temp)\n",
        "    theta = theta - (alpha/m) * temp\n",
        "  return theta\n",
        "theta = gradientDescentMulti(X, y, theta, alpha, num_iters)\n",
        "print(theta)\n",
        "J = computeCostMulti(X, y, theta)\n",
        "print(J)"
      ],
      "metadata": {
        "colab": {
          "base_uri": "https://localhost:8080/"
        },
        "id": "_ZVf6cLLe_ty",
        "outputId": "6fd502df-fdbb-4496-f241-332bdc4a6746"
      },
      "execution_count": null,
      "outputs": [
        {
          "output_type": "stream",
          "name": "stdout",
          "text": [
            "[[340302.97100295]\n",
            " [107744.19899198]\n",
            " [ -4875.11193358]]\n",
            "2044562883.3693335\n"
          ]
        }
      ]
    }
  ]
}